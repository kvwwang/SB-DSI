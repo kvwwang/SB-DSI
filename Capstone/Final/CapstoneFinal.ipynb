{
 "cells": [
  {
   "cell_type": "markdown",
   "metadata": {},
   "source": [
    "# Capstone Code"
   ]
  },
  {
   "cell_type": "markdown",
   "metadata": {},
   "source": [
    "What is the likelihood of seeing some exciting action during a baseball game? A common criticism of baseball is the fact that for long stretches of time, nothing interesting happens on offense. For a casual fan, watching hitting is frequently more interesting than watching pitching and defense. If a fan tunes into a game at the start of an inning, which potential variables can he or she use to judge whether or not they will witness hits and runs for that particular inning?"
   ]
  },
  {
   "cell_type": "markdown",
   "metadata": {},
   "source": [
    "The dataset used for this initial data exploration was obtained from Retrosheet's play-by-play event files (http://www.retrosheet.org/game.htm). The downloads may be parsed into .csv files using programs they provide. An alternative is to use R and a set of files known as Chadwick to parse a season's play-by-play data into a single .csv file, as detailed at http://isaacmiller.co/how-to-create-a-single-season-csv-of-retrosheet-play-by-play-data-pc/.  "
   ]
  },
  {
   "cell_type": "code",
   "execution_count": 1,
   "metadata": {
    "collapsed": true
   },
   "outputs": [],
   "source": [
    "%matplotlib inline\n",
    "import matplotlib as mpl\n",
    "import matplotlib.cm as cm\n",
    "import matplotlib.pyplot as plt\n",
    "import pandas as pd\n",
    "import numpy as np"
   ]
  },
  {
   "cell_type": "code",
   "execution_count": 2,
   "metadata": {
    "collapsed": false
   },
   "outputs": [
    {
     "name": "stderr",
     "output_type": "stream",
     "text": [
      "D:\\Anaconda3\\lib\\site-packages\\IPython\\core\\interactiveshell.py:2902: DtypeWarning: Columns (65,66,85,86) have mixed types. Specify dtype option on import or set low_memory=False.\n",
      "  interactivity=interactivity, compiler=compiler, result=result)\n"
     ]
    },
    {
     "data": {
      "text/html": [
       "<div>\n",
       "<style>\n",
       "    .dataframe thead tr:only-child th {\n",
       "        text-align: right;\n",
       "    }\n",
       "\n",
       "    .dataframe thead th {\n",
       "        text-align: left;\n",
       "    }\n",
       "\n",
       "    .dataframe tbody tr th {\n",
       "        vertical-align: top;\n",
       "    }\n",
       "</style>\n",
       "<table border=\"1\" class=\"dataframe\">\n",
       "  <thead>\n",
       "    <tr style=\"text-align: right;\">\n",
       "      <th></th>\n",
       "      <th>Unnamed: 0</th>\n",
       "      <th>GAME_ID</th>\n",
       "      <th>AWAY_TEAM_ID</th>\n",
       "      <th>INN_CT</th>\n",
       "      <th>BAT_HOME_ID</th>\n",
       "      <th>OUTS_CT</th>\n",
       "      <th>BALLS_CT</th>\n",
       "      <th>STRIKES_CT</th>\n",
       "      <th>PITCH_SEQ_TX</th>\n",
       "      <th>AWAY_SCORE_CT</th>\n",
       "      <th>...</th>\n",
       "      <th>REMOVED_FOR_PH_BAT_FLD_CD</th>\n",
       "      <th>PO1_FLD_CD</th>\n",
       "      <th>PO2_FLD_CD</th>\n",
       "      <th>PO3_FLD_CD</th>\n",
       "      <th>ASS1_FLD_CD</th>\n",
       "      <th>ASS2_FLD_CD</th>\n",
       "      <th>ASS3_FLD_CD</th>\n",
       "      <th>ASS4_FLD_CD</th>\n",
       "      <th>ASS5_FLD_CD</th>\n",
       "      <th>EVENT_ID</th>\n",
       "    </tr>\n",
       "  </thead>\n",
       "  <tbody>\n",
       "    <tr>\n",
       "      <th>0</th>\n",
       "      <td>1</td>\n",
       "      <td>ANA201604040</td>\n",
       "      <td>CHN</td>\n",
       "      <td>1</td>\n",
       "      <td>0</td>\n",
       "      <td>0</td>\n",
       "      <td>1</td>\n",
       "      <td>0</td>\n",
       "      <td>BX</td>\n",
       "      <td>0</td>\n",
       "      <td>...</td>\n",
       "      <td>0</td>\n",
       "      <td>0</td>\n",
       "      <td>0</td>\n",
       "      <td>0</td>\n",
       "      <td>0</td>\n",
       "      <td>0</td>\n",
       "      <td>0</td>\n",
       "      <td>0</td>\n",
       "      <td>0</td>\n",
       "      <td>1</td>\n",
       "    </tr>\n",
       "    <tr>\n",
       "      <th>1</th>\n",
       "      <td>2</td>\n",
       "      <td>ANA201604040</td>\n",
       "      <td>CHN</td>\n",
       "      <td>1</td>\n",
       "      <td>0</td>\n",
       "      <td>0</td>\n",
       "      <td>0</td>\n",
       "      <td>0</td>\n",
       "      <td>X</td>\n",
       "      <td>0</td>\n",
       "      <td>...</td>\n",
       "      <td>0</td>\n",
       "      <td>3</td>\n",
       "      <td>0</td>\n",
       "      <td>0</td>\n",
       "      <td>6</td>\n",
       "      <td>0</td>\n",
       "      <td>0</td>\n",
       "      <td>0</td>\n",
       "      <td>0</td>\n",
       "      <td>2</td>\n",
       "    </tr>\n",
       "    <tr>\n",
       "      <th>2</th>\n",
       "      <td>3</td>\n",
       "      <td>ANA201604040</td>\n",
       "      <td>CHN</td>\n",
       "      <td>1</td>\n",
       "      <td>0</td>\n",
       "      <td>1</td>\n",
       "      <td>0</td>\n",
       "      <td>2</td>\n",
       "      <td>SFS</td>\n",
       "      <td>0</td>\n",
       "      <td>...</td>\n",
       "      <td>0</td>\n",
       "      <td>2</td>\n",
       "      <td>0</td>\n",
       "      <td>0</td>\n",
       "      <td>0</td>\n",
       "      <td>0</td>\n",
       "      <td>0</td>\n",
       "      <td>0</td>\n",
       "      <td>0</td>\n",
       "      <td>3</td>\n",
       "    </tr>\n",
       "    <tr>\n",
       "      <th>3</th>\n",
       "      <td>4</td>\n",
       "      <td>ANA201604040</td>\n",
       "      <td>CHN</td>\n",
       "      <td>1</td>\n",
       "      <td>0</td>\n",
       "      <td>2</td>\n",
       "      <td>1</td>\n",
       "      <td>1</td>\n",
       "      <td>BCX</td>\n",
       "      <td>0</td>\n",
       "      <td>...</td>\n",
       "      <td>0</td>\n",
       "      <td>0</td>\n",
       "      <td>0</td>\n",
       "      <td>0</td>\n",
       "      <td>0</td>\n",
       "      <td>0</td>\n",
       "      <td>0</td>\n",
       "      <td>0</td>\n",
       "      <td>0</td>\n",
       "      <td>4</td>\n",
       "    </tr>\n",
       "    <tr>\n",
       "      <th>4</th>\n",
       "      <td>5</td>\n",
       "      <td>ANA201604040</td>\n",
       "      <td>CHN</td>\n",
       "      <td>1</td>\n",
       "      <td>0</td>\n",
       "      <td>2</td>\n",
       "      <td>2</td>\n",
       "      <td>2</td>\n",
       "      <td>BSS*B1S</td>\n",
       "      <td>1</td>\n",
       "      <td>...</td>\n",
       "      <td>0</td>\n",
       "      <td>3</td>\n",
       "      <td>0</td>\n",
       "      <td>0</td>\n",
       "      <td>2</td>\n",
       "      <td>0</td>\n",
       "      <td>0</td>\n",
       "      <td>0</td>\n",
       "      <td>0</td>\n",
       "      <td>5</td>\n",
       "    </tr>\n",
       "  </tbody>\n",
       "</table>\n",
       "<p>5 rows × 98 columns</p>\n",
       "</div>"
      ],
      "text/plain": [
       "   Unnamed: 0       GAME_ID AWAY_TEAM_ID  INN_CT  BAT_HOME_ID  OUTS_CT  \\\n",
       "0           1  ANA201604040          CHN       1            0        0   \n",
       "1           2  ANA201604040          CHN       1            0        0   \n",
       "2           3  ANA201604040          CHN       1            0        1   \n",
       "3           4  ANA201604040          CHN       1            0        2   \n",
       "4           5  ANA201604040          CHN       1            0        2   \n",
       "\n",
       "   BALLS_CT  STRIKES_CT PITCH_SEQ_TX  AWAY_SCORE_CT   ...     \\\n",
       "0         1           0           BX              0   ...      \n",
       "1         0           0            X              0   ...      \n",
       "2         0           2          SFS              0   ...      \n",
       "3         1           1          BCX              0   ...      \n",
       "4         2           2      BSS*B1S              1   ...      \n",
       "\n",
       "   REMOVED_FOR_PH_BAT_FLD_CD PO1_FLD_CD PO2_FLD_CD PO3_FLD_CD ASS1_FLD_CD  \\\n",
       "0                          0          0          0          0           0   \n",
       "1                          0          3          0          0           6   \n",
       "2                          0          2          0          0           0   \n",
       "3                          0          0          0          0           0   \n",
       "4                          0          3          0          0           2   \n",
       "\n",
       "  ASS2_FLD_CD ASS3_FLD_CD ASS4_FLD_CD ASS5_FLD_CD EVENT_ID  \n",
       "0           0           0           0           0        1  \n",
       "1           0           0           0           0        2  \n",
       "2           0           0           0           0        3  \n",
       "3           0           0           0           0        4  \n",
       "4           0           0           0           0        5  \n",
       "\n",
       "[5 rows x 98 columns]"
      ]
     },
     "execution_count": 2,
     "metadata": {},
     "output_type": "execute_result"
    }
   ],
   "source": [
    "data = pd.read_csv(\"D:/SB DATA/Retrosheets/data2016.csv\")\n",
    "data.head()"
   ]
  },
  {
   "cell_type": "code",
   "execution_count": 3,
   "metadata": {
    "collapsed": false
   },
   "outputs": [
    {
     "data": {
      "text/plain": [
       "190715"
      ]
     },
     "execution_count": 3,
     "metadata": {},
     "output_type": "execute_result"
    }
   ],
   "source": [
    "len(data)"
   ]
  },
  {
   "cell_type": "code",
   "execution_count": 4,
   "metadata": {
    "collapsed": true
   },
   "outputs": [
    {
     "data": {
      "text/plain": [
       "['Unnamed: 0',\n",
       " 'GAME_ID',\n",
       " 'AWAY_TEAM_ID',\n",
       " 'INN_CT',\n",
       " 'BAT_HOME_ID',\n",
       " 'OUTS_CT',\n",
       " 'BALLS_CT',\n",
       " 'STRIKES_CT',\n",
       " 'PITCH_SEQ_TX',\n",
       " 'AWAY_SCORE_CT',\n",
       " 'HOME_SCORE_CT',\n",
       " 'BAT_ID',\n",
       " 'BAT_HAND_CD',\n",
       " 'RESP_BAT_ID',\n",
       " 'RESP_BAT_HAND_CD',\n",
       " 'PIT_ID',\n",
       " 'PIT_HAND_CD',\n",
       " 'RESP_PIT_ID',\n",
       " 'RESP_PIT_HAND_CD',\n",
       " 'POS2_FLD_ID',\n",
       " 'POS3_FLD_ID',\n",
       " 'POS4_FLD_ID',\n",
       " 'POS5_FLD_ID',\n",
       " 'POS6_FLD_ID',\n",
       " 'POS7_FLD_ID',\n",
       " 'POS8_FLD_ID',\n",
       " 'POS9_FLD_ID',\n",
       " 'BASE1_RUN_ID',\n",
       " 'BASE2_RUN_ID',\n",
       " 'BASE3_RUN_ID',\n",
       " 'EVENT_TX',\n",
       " 'LEADOFF_FL',\n",
       " 'PH_FL',\n",
       " 'BAT_FLD_CD',\n",
       " 'BAT_LINEUP_ID',\n",
       " 'EVENT_CD',\n",
       " 'BAT_EVENT_FL',\n",
       " 'AB_FL',\n",
       " 'H_FL',\n",
       " 'SH_FL',\n",
       " 'SF_FL',\n",
       " 'EVENT_OUTS_CT',\n",
       " 'DP_FL',\n",
       " 'TP_FL',\n",
       " 'RBI_CT',\n",
       " 'WP_FL',\n",
       " 'PB_FL',\n",
       " 'FLD_CD',\n",
       " 'BATTEDBALL_CD',\n",
       " 'BUNT_FL',\n",
       " 'FOUL_FL',\n",
       " 'BATTEDBALL_LOC_TX',\n",
       " 'ERR_CT',\n",
       " 'ERR1_FLD_CD',\n",
       " 'ERR1_CD',\n",
       " 'ERR2_FLD_CD',\n",
       " 'ERR2_CD',\n",
       " 'ERR3_FLD_CD',\n",
       " 'ERR3_CD',\n",
       " 'BAT_DEST_ID',\n",
       " 'RUN1_DEST_ID',\n",
       " 'RUN2_DEST_ID',\n",
       " 'RUN3_DEST_ID',\n",
       " 'BAT_PLAY_TX',\n",
       " 'RUN1_PLAY_TX',\n",
       " 'RUN2_PLAY_TX',\n",
       " 'RUN3_PLAY_TX',\n",
       " 'RUN1_SB_FL',\n",
       " 'RUN2_SB_FL',\n",
       " 'RUN3_SB_FL',\n",
       " 'RUN1_CS_FL',\n",
       " 'RUN2_CS_FL',\n",
       " 'RUN3_CS_FL',\n",
       " 'RUN1_PK_FL',\n",
       " 'RUN2_PK_FL',\n",
       " 'RUN3_PK_FL',\n",
       " 'RUN1_RESP_PIT_ID',\n",
       " 'RUN2_RESP_PIT_ID',\n",
       " 'RUN3_RESP_PIT_ID',\n",
       " 'GAME_NEW_FL',\n",
       " 'GAME_END_FL',\n",
       " 'PR_RUN1_FL',\n",
       " 'PR_RUN2_FL',\n",
       " 'PR_RUN3_FL',\n",
       " 'REMOVED_FOR_PR_RUN1_ID',\n",
       " 'REMOVED_FOR_PR_RUN2_ID',\n",
       " 'REMOVED_FOR_PR_RUN3_ID',\n",
       " 'REMOVED_FOR_PH_BAT_ID',\n",
       " 'REMOVED_FOR_PH_BAT_FLD_CD',\n",
       " 'PO1_FLD_CD',\n",
       " 'PO2_FLD_CD',\n",
       " 'PO3_FLD_CD',\n",
       " 'ASS1_FLD_CD',\n",
       " 'ASS2_FLD_CD',\n",
       " 'ASS3_FLD_CD',\n",
       " 'ASS4_FLD_CD',\n",
       " 'ASS5_FLD_CD',\n",
       " 'EVENT_ID']"
      ]
     },
     "execution_count": 4,
     "metadata": {},
     "output_type": "execute_result"
    }
   ],
   "source": [
    "list(data)"
   ]
  },
  {
   "cell_type": "markdown",
   "metadata": {},
   "source": [
    "For now, the 2016 MLB season is selected to be investigated. There are 190,715 plays, and 98 features as detailed at http://www.retrosheet.org/datause.txt.  \n",
    "\n",
    "A few features are selected to form a smaller data frame to work with. Some additional fields are added to improve processing efficiency."
   ]
  },
  {
   "cell_type": "code",
   "execution_count": 5,
   "metadata": {
    "collapsed": true
   },
   "outputs": [],
   "source": [
    "pd.options.mode.chained_assignment = None"
   ]
  },
  {
   "cell_type": "code",
   "execution_count": 6,
   "metadata": {
    "collapsed": false
   },
   "outputs": [
    {
     "data": {
      "text/html": [
       "<div>\n",
       "<style>\n",
       "    .dataframe thead tr:only-child th {\n",
       "        text-align: right;\n",
       "    }\n",
       "\n",
       "    .dataframe thead th {\n",
       "        text-align: left;\n",
       "    }\n",
       "\n",
       "    .dataframe tbody tr th {\n",
       "        vertical-align: top;\n",
       "    }\n",
       "</style>\n",
       "<table border=\"1\" class=\"dataframe\">\n",
       "  <thead>\n",
       "    <tr style=\"text-align: right;\">\n",
       "      <th></th>\n",
       "      <th>GAME_ID</th>\n",
       "      <th>AWAY_TEAM_ID</th>\n",
       "      <th>HOME_TEAM_ID</th>\n",
       "      <th>INN_CT</th>\n",
       "      <th>LEADOFF_FL</th>\n",
       "      <th>BAT_HOME_ID</th>\n",
       "      <th>AWAY_SCORE_CT</th>\n",
       "      <th>HOME_SCORE_CT</th>\n",
       "      <th>BAT_LINEUP_ID</th>\n",
       "      <th>H_FL</th>\n",
       "    </tr>\n",
       "  </thead>\n",
       "  <tbody>\n",
       "    <tr>\n",
       "      <th>0</th>\n",
       "      <td>ANA201604040</td>\n",
       "      <td>CHN</td>\n",
       "      <td>ANA</td>\n",
       "      <td>1</td>\n",
       "      <td>True</td>\n",
       "      <td>0</td>\n",
       "      <td>0</td>\n",
       "      <td>0</td>\n",
       "      <td>1</td>\n",
       "      <td>2</td>\n",
       "    </tr>\n",
       "    <tr>\n",
       "      <th>1</th>\n",
       "      <td>ANA201604040</td>\n",
       "      <td>CHN</td>\n",
       "      <td>ANA</td>\n",
       "      <td>1</td>\n",
       "      <td>False</td>\n",
       "      <td>0</td>\n",
       "      <td>0</td>\n",
       "      <td>0</td>\n",
       "      <td>2</td>\n",
       "      <td>0</td>\n",
       "    </tr>\n",
       "    <tr>\n",
       "      <th>2</th>\n",
       "      <td>ANA201604040</td>\n",
       "      <td>CHN</td>\n",
       "      <td>ANA</td>\n",
       "      <td>1</td>\n",
       "      <td>False</td>\n",
       "      <td>0</td>\n",
       "      <td>0</td>\n",
       "      <td>0</td>\n",
       "      <td>3</td>\n",
       "      <td>0</td>\n",
       "    </tr>\n",
       "    <tr>\n",
       "      <th>3</th>\n",
       "      <td>ANA201604040</td>\n",
       "      <td>CHN</td>\n",
       "      <td>ANA</td>\n",
       "      <td>1</td>\n",
       "      <td>False</td>\n",
       "      <td>0</td>\n",
       "      <td>0</td>\n",
       "      <td>0</td>\n",
       "      <td>4</td>\n",
       "      <td>1</td>\n",
       "    </tr>\n",
       "    <tr>\n",
       "      <th>4</th>\n",
       "      <td>ANA201604040</td>\n",
       "      <td>CHN</td>\n",
       "      <td>ANA</td>\n",
       "      <td>1</td>\n",
       "      <td>False</td>\n",
       "      <td>0</td>\n",
       "      <td>1</td>\n",
       "      <td>0</td>\n",
       "      <td>5</td>\n",
       "      <td>0</td>\n",
       "    </tr>\n",
       "  </tbody>\n",
       "</table>\n",
       "</div>"
      ],
      "text/plain": [
       "        GAME_ID AWAY_TEAM_ID HOME_TEAM_ID  INN_CT  LEADOFF_FL  BAT_HOME_ID  \\\n",
       "0  ANA201604040          CHN          ANA       1        True            0   \n",
       "1  ANA201604040          CHN          ANA       1       False            0   \n",
       "2  ANA201604040          CHN          ANA       1       False            0   \n",
       "3  ANA201604040          CHN          ANA       1       False            0   \n",
       "4  ANA201604040          CHN          ANA       1       False            0   \n",
       "\n",
       "   AWAY_SCORE_CT  HOME_SCORE_CT  BAT_LINEUP_ID  H_FL  \n",
       "0              0              0              1     2  \n",
       "1              0              0              2     0  \n",
       "2              0              0              3     0  \n",
       "3              0              0              4     1  \n",
       "4              1              0              5     0  "
      ]
     },
     "execution_count": 6,
     "metadata": {},
     "output_type": "execute_result"
    }
   ],
   "source": [
    "subset = data[['GAME_ID','AWAY_TEAM_ID','INN_CT','LEADOFF_FL','BAT_HOME_ID','AWAY_SCORE_CT','HOME_SCORE_CT','BAT_LINEUP_ID','H_FL']]\n",
    "subset['HOME_TEAM_ID'] = subset['GAME_ID'].astype(str).str[:3]\n",
    "subset = subset[['GAME_ID','AWAY_TEAM_ID','HOME_TEAM_ID','INN_CT','LEADOFF_FL','BAT_HOME_ID','AWAY_SCORE_CT',\\\n",
    "                 'HOME_SCORE_CT','BAT_LINEUP_ID','H_FL']]\n",
    "subset.head()"
   ]
  },
  {
   "cell_type": "code",
   "execution_count": 7,
   "metadata": {
    "collapsed": false
   },
   "outputs": [
    {
     "data": {
      "text/plain": [
       "array(['ANA', 'ARI', 'ATL', 'BAL', 'BOS', 'CHA', 'CHN', 'CIN', 'CLE',\n",
       "       'COL', 'DET', 'HOU', 'KCA', 'LAN', 'MIA', 'MIL', 'MIN', 'NYA',\n",
       "       'NYN', 'OAK', 'PHI', 'PIT', 'SDN', 'SEA', 'SFN', 'SLN', 'TBA',\n",
       "       'TEX', 'TOR', 'WAS'], dtype=object)"
      ]
     },
     "execution_count": 7,
     "metadata": {},
     "output_type": "execute_result"
    }
   ],
   "source": [
    "np.unique(subset['HOME_TEAM_ID'])"
   ]
  },
  {
   "cell_type": "code",
   "execution_count": 8,
   "metadata": {
    "collapsed": true
   },
   "outputs": [],
   "source": [
    "AL = ['ANA','BAL','BOS','CHA','CLE','DET','HOU','KCA','MIN','NYA','OAK','SEA','TBA','TEX','TOR']\n",
    "NL = ['ARI','ATL','CHN','CIN','COL','LAN','MIA','MIL','NYN','PHI','PIT','SDN','SFN','SLN','WAS']\n",
    "leagues = [AL,NL]\n",
    "league_names = ['AL','NL']\n",
    "teams = AL + NL"
   ]
  },
  {
   "cell_type": "code",
   "execution_count": 9,
   "metadata": {
    "collapsed": true
   },
   "outputs": [],
   "source": [
    "team_means = pd.DataFrame()\n",
    "pos = 0\n",
    "for team in teams:\n",
    "    bat = subset[((subset.AWAY_TEAM_ID == team) & (subset.BAT_HOME_ID == 0)) | ((subset.HOME_TEAM_ID == team) \\\n",
    "                                                                                 & (subset.BAT_HOME_ID == 1))]\n",
    "    home = bat['HOME_TEAM_ID'] == team\n",
    "    bat['HOME_FL'] = home\n",
    "    bat = bat.reset_index(drop= True)\n",
    "\n",
    "    prev_runs = 0\n",
    "    prev_play = 0\n",
    "    runs = []\n",
    "    leadoff_pos = []\n",
    "    inn = []\n",
    "    for row in bat.itertuples():    \n",
    "        if row.LEADOFF_FL == True:\n",
    "            leadoff_pos.append(row.BAT_LINEUP_ID)\n",
    "\n",
    "            if row.INN_CT < 10:\n",
    "                inn.append(row.INN_CT)\n",
    "            else:\n",
    "                inn.append('10+')\n",
    "\n",
    "            if row.Index == 0:\n",
    "                continue\n",
    "\n",
    "            if row.INN_CT == 1:\n",
    "                runs.append(prev_play-prev_runs)\n",
    "                prev_runs = 0            \n",
    "            else:\n",
    "                if row.HOME_FL == True:\n",
    "                    runs.append(row.HOME_SCORE_CT - prev_runs)\n",
    "                    prev_runs = row.HOME_SCORE_CT\n",
    "                else:\n",
    "                    runs.append(row.AWAY_SCORE_CT - prev_runs)\n",
    "                    prev_runs = row.AWAY_SCORE_CT\n",
    "\n",
    "        if row.HOME_FL == True:\n",
    "            prev_play = row.HOME_SCORE_CT\n",
    "        else:\n",
    "            prev_play = row.AWAY_SCORE_CT\n",
    "\n",
    "        if row.Index == (len(bat)-1):\n",
    "            runs.append(prev_play-prev_runs)\n",
    "    \n",
    "    innings = pd.DataFrame({'Leadoff': leadoff_pos, team: runs, 'Inning':inn})\n",
    "    means = innings.groupby('Leadoff').mean()\n",
    "    \n",
    "    team_means = pd.concat([team_means,means],axis=1)\n",
    "    \n",
    "    innings = pd.DataFrame({'Leadoff': leadoff_pos, 'Runs': runs, 'Inning':inn})\n",
    "    if pos==0:\n",
    "        inn_cts = innings.Leadoff.value_counts()\n",
    "        sums = innings.groupby('Leadoff').sum()\n",
    "    else:\n",
    "        inn_cts = innings.Leadoff.value_counts() + inn_cts\n",
    "        sums = innings.groupby('Leadoff').sum() + sums\n",
    "    pos=1"
   ]
  },
  {
   "cell_type": "code",
   "execution_count": 10,
   "metadata": {
    "collapsed": false
   },
   "outputs": [
    {
     "data": {
      "text/html": [
       "<div>\n",
       "<style>\n",
       "    .dataframe thead tr:only-child th {\n",
       "        text-align: right;\n",
       "    }\n",
       "\n",
       "    .dataframe thead th {\n",
       "        text-align: left;\n",
       "    }\n",
       "\n",
       "    .dataframe tbody tr th {\n",
       "        vertical-align: top;\n",
       "    }\n",
       "</style>\n",
       "<table border=\"1\" class=\"dataframe\">\n",
       "  <thead>\n",
       "    <tr style=\"text-align: right;\">\n",
       "      <th></th>\n",
       "      <th>Runs</th>\n",
       "      <th>Innings</th>\n",
       "      <th>mean</th>\n",
       "    </tr>\n",
       "    <tr>\n",
       "      <th>Leadoff</th>\n",
       "      <th></th>\n",
       "      <th></th>\n",
       "      <th></th>\n",
       "    </tr>\n",
       "  </thead>\n",
       "  <tbody>\n",
       "    <tr>\n",
       "      <th>1</th>\n",
       "      <td>5109</td>\n",
       "      <td>9163</td>\n",
       "      <td>0.557568</td>\n",
       "    </tr>\n",
       "    <tr>\n",
       "      <th>2</th>\n",
       "      <td>2082</td>\n",
       "      <td>3685</td>\n",
       "      <td>0.564993</td>\n",
       "    </tr>\n",
       "    <tr>\n",
       "      <th>3</th>\n",
       "      <td>1939</td>\n",
       "      <td>3635</td>\n",
       "      <td>0.533425</td>\n",
       "    </tr>\n",
       "    <tr>\n",
       "      <th>4</th>\n",
       "      <td>2491</td>\n",
       "      <td>5228</td>\n",
       "      <td>0.476473</td>\n",
       "    </tr>\n",
       "    <tr>\n",
       "      <th>5</th>\n",
       "      <td>2180</td>\n",
       "      <td>4777</td>\n",
       "      <td>0.456353</td>\n",
       "    </tr>\n",
       "    <tr>\n",
       "      <th>6</th>\n",
       "      <td>1679</td>\n",
       "      <td>4185</td>\n",
       "      <td>0.401195</td>\n",
       "    </tr>\n",
       "    <tr>\n",
       "      <th>7</th>\n",
       "      <td>1843</td>\n",
       "      <td>4236</td>\n",
       "      <td>0.435080</td>\n",
       "    </tr>\n",
       "    <tr>\n",
       "      <th>8</th>\n",
       "      <td>2085</td>\n",
       "      <td>4399</td>\n",
       "      <td>0.473971</td>\n",
       "    </tr>\n",
       "    <tr>\n",
       "      <th>9</th>\n",
       "      <td>2082</td>\n",
       "      <td>4151</td>\n",
       "      <td>0.501566</td>\n",
       "    </tr>\n",
       "  </tbody>\n",
       "</table>\n",
       "</div>"
      ],
      "text/plain": [
       "         Runs  Innings      mean\n",
       "Leadoff                         \n",
       "1        5109     9163  0.557568\n",
       "2        2082     3685  0.564993\n",
       "3        1939     3635  0.533425\n",
       "4        2491     5228  0.476473\n",
       "5        2180     4777  0.456353\n",
       "6        1679     4185  0.401195\n",
       "7        1843     4236  0.435080\n",
       "8        2085     4399  0.473971\n",
       "9        2082     4151  0.501566"
      ]
     },
     "execution_count": 10,
     "metadata": {},
     "output_type": "execute_result"
    }
   ],
   "source": [
    "sums['Innings'] = inn_cts\n",
    "sums['mean'] = sums.Runs/sums.Innings\n",
    "sums"
   ]
  },
  {
   "cell_type": "markdown",
   "metadata": {},
   "source": [
    "For now, start exploring data (data story)"
   ]
  },
  {
   "cell_type": "code",
   "execution_count": 11,
   "metadata": {
    "collapsed": false
   },
   "outputs": [
    {
     "data": {
      "text/plain": [
       "<matplotlib.text.Text at 0x1d7805c51d0>"
      ]
     },
     "execution_count": 11,
     "metadata": {},
     "output_type": "execute_result"
    },
    {
     "data": {
      "image/png": "[encoded data removed]",
      "text/plain": [
       "<matplotlib.figure.Figure at 0x1d788938da0>"
      ]
     },
     "metadata": {},
     "output_type": "display_data"
    }
   ],
   "source": [
    "sums['mean'].plot(kind='bar',rot=0,legend=False,figsize=(9,6))\n",
    "plt.xlabel('Leadoff Position')\n",
    "plt.ylabel('Average Runs Scored')\n",
    "plt.title('Average Runs Scored per Inning by Leadoff Position for League 2016')"
   ]
  },
  {
   "cell_type": "code",
   "execution_count": 12,
   "metadata": {
    "collapsed": false
   },
   "outputs": [
    {
     "name": "stderr",
     "output_type": "stream",
     "text": [
      "D:\\Anaconda3\\lib\\site-packages\\pandas\\core\\generic.py:5006: RuntimeWarning: unorderable types: numpy.ndarray() > str(), sort order is undefined for incomparable objects\n",
      "  return_indexers=True)\n"
     ]
    }
   ],
   "source": [
    "teams = AL+NL\n",
    "league_means = pd.DataFrame()\n",
    "league_hits = pd.DataFrame()\n",
    "league_runs_inn = pd.DataFrame()\n",
    "league_hits_inn = pd.DataFrame()\n",
    "\n",
    "lc = 0\n",
    "\n",
    "for league in leagues:\n",
    "    pos = 0\n",
    "    for team in league:\n",
    "        bat = subset[((subset.AWAY_TEAM_ID == team) & (subset.BAT_HOME_ID == 0)) | ((subset.HOME_TEAM_ID == team) \\\n",
    "                                                                                     & (subset.BAT_HOME_ID == 1))]\n",
    "        home = bat['HOME_TEAM_ID'] == team\n",
    "        bat['HOME_FL'] = home\n",
    "        bat = bat.reset_index(drop= True)\n",
    "\n",
    "        prev_runs = 0\n",
    "        prev_play = 0\n",
    "        runs = []\n",
    "        leadoff_pos = []\n",
    "        inn = []\n",
    "        hits = []\n",
    "        inn_hits = 0\n",
    "        \n",
    "        for row in bat.itertuples():    \n",
    "            if row.LEADOFF_FL == True:\n",
    "                leadoff_pos.append(row.BAT_LINEUP_ID)\n",
    "\n",
    "                if row.INN_CT < 10:\n",
    "                    inn.append(row.INN_CT)\n",
    "                else:\n",
    "                    inn.append('10+')\n",
    "\n",
    "                if row.Index == 0:\n",
    "                    continue\n",
    "\n",
    "                hits.append(inn_hits)\n",
    "                inn_hits = 0\n",
    "        \n",
    "                if row.INN_CT == 1:\n",
    "                    runs.append(prev_play-prev_runs)\n",
    "                    prev_runs = 0            \n",
    "                else:\n",
    "                    if row.HOME_FL == True:\n",
    "                        runs.append(row.HOME_SCORE_CT - prev_runs)\n",
    "                        prev_runs = row.HOME_SCORE_CT\n",
    "                    else:\n",
    "                        runs.append(row.AWAY_SCORE_CT - prev_runs)\n",
    "                        prev_runs = row.AWAY_SCORE_CT\n",
    "\n",
    "            if row.HOME_FL == True:\n",
    "                prev_play = row.HOME_SCORE_CT\n",
    "            else:\n",
    "                prev_play = row.AWAY_SCORE_CT\n",
    "\n",
    "            if (row.H_FL > 0):\n",
    "                inn_hits += 1                \n",
    "                \n",
    "            if row.Index == (len(bat)-1):\n",
    "                runs.append(prev_play-prev_runs)\n",
    "                hits.append(inn_hits)\n",
    "                \n",
    "\n",
    "        innings = pd.DataFrame({'Leadoff': leadoff_pos, team: runs, 'Inning':inn})\n",
    "        means = innings.groupby('Leadoff').mean()\n",
    "\n",
    "        innings = pd.DataFrame({'Leadoff': leadoff_pos, 'Runs': runs, 'Inning':inn, 'Hits':hits})\n",
    "        if pos==0:\n",
    "            inn_cts = innings.Leadoff.value_counts()\n",
    "            inn_tot = innings.Inning.value_counts()\n",
    "            sums = innings.groupby('Leadoff').sum()\n",
    "            gb_inn = innings.groupby('Inning').sum()\n",
    "        else:\n",
    "            inn_cts = innings.Leadoff.value_counts() + inn_cts\n",
    "            inn_tot = innings.Inning.value_counts() + inn_tot\n",
    "            sums = innings.groupby('Leadoff').sum() + sums\n",
    "            gb_inn = innings.groupby('Inning').sum() + gb_inn\n",
    "        pos=1\n",
    "\n",
    "    \n",
    "    sums['Innings'] = inn_cts\n",
    "    sums['mean'] = sums.Runs/sums.Innings\n",
    "    sums['Avg_hits'] = sums.Hits/sums.Innings\n",
    "    league_means[league_names[lc]] = sums['mean']\n",
    "    league_hits[league_names[lc]] = sums['Avg_hits']\n",
    "    \n",
    "    gb_inn['Total'] = inn_tot\n",
    "    gb_inn['MeanRuns'] = gb_inn.Runs/gb_inn.Total\n",
    "    gb_inn['MeanHits'] = gb_inn.Hits/gb_inn.Total\n",
    "    league_runs_inn[league_names[lc]] = gb_inn['MeanRuns']\n",
    "    league_hits_inn[league_names[lc]] = gb_inn['MeanHits']\n",
    "    \n",
    "    lc = 1\n",
    "    "
   ]
  },
  {
   "cell_type": "code",
   "execution_count": 13,
   "metadata": {
    "collapsed": false
   },
   "outputs": [
    {
     "data": {
      "text/plain": [
       "<matplotlib.text.Text at 0x1d7808f6588>"
      ]
     },
     "execution_count": 13,
     "metadata": {},
     "output_type": "execute_result"
    },
    {
     "data": {
      "image/png": "[encoded data removed]",
      "text/plain": [
       "<matplotlib.figure.Figure at 0x1d788938630>"
      ]
     },
     "metadata": {},
     "output_type": "display_data"
    }
   ],
   "source": [
    "league_means.plot(kind='bar',rot=0,figsize=(9,6))\n",
    "plt.xlabel('Leadoff Position')\n",
    "plt.ylabel('Average Runs Scored')\n",
    "plt.title('Average Runs Scored per Inning by Leadoff Position for League 2016')"
   ]
  },
  {
   "cell_type": "code",
   "execution_count": 14,
   "metadata": {
    "collapsed": false
   },
   "outputs": [
    {
     "data": {
      "text/plain": [
       "<matplotlib.text.Text at 0x1d7809cd7b8>"
      ]
     },
     "execution_count": 14,
     "metadata": {},
     "output_type": "execute_result"
    },
    {
     "data": {
      "image/png": "[encoded data removed]",
      "text/plain": [
       "<matplotlib.figure.Figure at 0x1d780959c18>"
      ]
     },
     "metadata": {},
     "output_type": "display_data"
    }
   ],
   "source": [
    "league_runs_inn.plot(kind='bar',rot=0,figsize=(9,6))\n",
    "plt.xlabel('Inning')\n",
    "plt.ylabel('Average Runs Scored')\n",
    "plt.title('Average Runs Scored per Inning for League 2016')"
   ]
  },
  {
   "cell_type": "markdown",
   "metadata": {},
   "source": [
    "From the visualizations, for runs per inning, there is a slight drop for the second inning before going up a little into the mid-innings, then trending down from there.  Unsurprisingly, the presence of the DH allowed the AL teams to have slightly better offensive numbers.  \n",
    "\n",
    "When considering leadoff positions, there was a similar trend in that starting with the top of the order led to more runs, and leading off with the 6th spot led to fewer runs. Surprisingly, NL teams did not average the fewest amount of runs for when the 9 hitter, usually the pitcher, leads off. Even if the first batter is almost a free out, the top of the lineup is still able to produce runs better than if the bottom of the order was due up."
   ]
  },
  {
   "cell_type": "markdown",
   "metadata": {},
   "source": [
    "We now iterate through the subset of data and generate more data fields, and a runs flag that will end up being our dependent variable."
   ]
  },
  {
   "cell_type": "code",
   "execution_count": 15,
   "metadata": {
    "collapsed": false
   },
   "outputs": [],
   "source": [
    "runs = []\n",
    "leadoff_pos = []\n",
    "inn = []\n",
    "hits = []\n",
    "game_id = []\n",
    "away_team = []\n",
    "home_team = []\n",
    "bat_team = []\n",
    "away_score = []\n",
    "home_score = []\n",
    "inn_int = []\n",
    "bat_score = []\n",
    "batting = []\n",
    "pitching = []\n",
    "\n",
    "for league in leagues:\n",
    "    pos = 0\n",
    "    for team in league:\n",
    "        bat = subset[((subset.AWAY_TEAM_ID == team) & (subset.BAT_HOME_ID == 0)) | ((subset.HOME_TEAM_ID == team) \\\n",
    "                                                                                     & (subset.BAT_HOME_ID == 1))]\n",
    "        home = bat['HOME_TEAM_ID'] == team\n",
    "        bat['HOME_FL'] = home\n",
    "        bat = bat.reset_index(drop= True)\n",
    "\n",
    "        prev_runs = 0\n",
    "        prev_play = 0\n",
    "\n",
    "        inn_hits = 0\n",
    "        \n",
    "        for row in bat.itertuples():            \n",
    "            if row.LEADOFF_FL == True:\n",
    "                leadoff_pos.append(row.BAT_LINEUP_ID)\n",
    "                game_id.append(row.GAME_ID)\n",
    "                away_team.append(row.AWAY_TEAM_ID)\n",
    "                home_team.append(row.HOME_TEAM_ID)\n",
    "                bat_team.append(row.BAT_HOME_ID)    \n",
    "                away_score.append(row.AWAY_SCORE_CT)\n",
    "                home_score.append(row.HOME_SCORE_CT)\n",
    "                inn_int.append(row.INN_CT)\n",
    "\n",
    "                if row.INN_CT < 10:\n",
    "                    inn.append(row.INN_CT)\n",
    "                else:\n",
    "                    inn.append('10+')\n",
    "                    \n",
    "                if row.BAT_HOME_ID == 1:\n",
    "                    bat_score.append(row.HOME_SCORE_CT)\n",
    "                    batting.append(row.HOME_TEAM_ID)\n",
    "                    pitching.append(row.AWAY_TEAM_ID)\n",
    "                else:\n",
    "                    bat_score.append(row.AWAY_SCORE_CT) \n",
    "                    batting.append(row.AWAY_TEAM_ID)\n",
    "                    pitching.append(row.HOME_TEAM_ID)                    \n",
    "\n",
    "                if row.Index == 0:\n",
    "                    continue\n",
    "\n",
    "                hits.append(inn_hits)\n",
    "                inn_hits = 0\n",
    "        \n",
    "                if row.INN_CT == 1:\n",
    "                    runs.append(prev_play-prev_runs)\n",
    "                    prev_runs = 0            \n",
    "                else:\n",
    "                    if row.HOME_FL == True:\n",
    "                        runs.append(row.HOME_SCORE_CT - prev_runs)\n",
    "                        prev_runs = row.HOME_SCORE_CT\n",
    "                    else:\n",
    "                        runs.append(row.AWAY_SCORE_CT - prev_runs)\n",
    "                        prev_runs = row.AWAY_SCORE_CT\n",
    "\n",
    "            if row.HOME_FL == True:\n",
    "                prev_play = row.HOME_SCORE_CT\n",
    "            else:\n",
    "                prev_play = row.AWAY_SCORE_CT\n",
    "\n",
    "            if (row.H_FL > 0):\n",
    "                inn_hits += 1                \n",
    "                \n",
    "            if row.Index == (len(bat)-1):\n",
    "                runs.append(prev_play-prev_runs)\n",
    "                hits.append(inn_hits)\n",
    "            \n",
    "    "
   ]
  },
  {
   "cell_type": "code",
   "execution_count": 16,
   "metadata": {
    "collapsed": false
   },
   "outputs": [],
   "source": [
    "innings = pd.DataFrame({'GameID': game_id, 'Away': away_team, 'Home': home_team, 'Inning':inn, 'BotFlag': bat_team, \\\n",
    "        'Leadoff': leadoff_pos, 'Runs': runs, 'Hits': hits, 'AwayScore': away_score, 'HomeScore': home_score, 'BatScore': \\\n",
    "                       bat_score, 'Batting': batting, 'Pitching': pitching})\n",
    "cols = ['GameID','Away','Home','Inning','BotFlag','Batting','Pitching','Leadoff','AwayScore','HomeScore','BatScore','Runs','Hits']\n",
    "innings = innings[cols]"
   ]
  },
  {
   "cell_type": "code",
   "execution_count": 17,
   "metadata": {
    "collapsed": false
   },
   "outputs": [
    {
     "data": {
      "text/html": [
       "<div>\n",
       "<style>\n",
       "    .dataframe thead tr:only-child th {\n",
       "        text-align: right;\n",
       "    }\n",
       "\n",
       "    .dataframe thead th {\n",
       "        text-align: left;\n",
       "    }\n",
       "\n",
       "    .dataframe tbody tr th {\n",
       "        vertical-align: top;\n",
       "    }\n",
       "</style>\n",
       "<table border=\"1\" class=\"dataframe\">\n",
       "  <thead>\n",
       "    <tr style=\"text-align: right;\">\n",
       "      <th></th>\n",
       "      <th>GameID</th>\n",
       "      <th>Away</th>\n",
       "      <th>Home</th>\n",
       "      <th>Inning</th>\n",
       "      <th>BotFlag</th>\n",
       "      <th>Batting</th>\n",
       "      <th>Pitching</th>\n",
       "      <th>Leadoff</th>\n",
       "      <th>AwayScore</th>\n",
       "      <th>HomeScore</th>\n",
       "      <th>BatScore</th>\n",
       "      <th>Runs</th>\n",
       "      <th>Hits</th>\n",
       "    </tr>\n",
       "  </thead>\n",
       "  <tbody>\n",
       "    <tr>\n",
       "      <th>0</th>\n",
       "      <td>ANA201604040</td>\n",
       "      <td>CHN</td>\n",
       "      <td>ANA</td>\n",
       "      <td>1</td>\n",
       "      <td>1</td>\n",
       "      <td>ANA</td>\n",
       "      <td>CHN</td>\n",
       "      <td>1</td>\n",
       "      <td>1</td>\n",
       "      <td>0</td>\n",
       "      <td>0</td>\n",
       "      <td>0</td>\n",
       "      <td>0</td>\n",
       "    </tr>\n",
       "    <tr>\n",
       "      <th>1</th>\n",
       "      <td>ANA201604040</td>\n",
       "      <td>CHN</td>\n",
       "      <td>ANA</td>\n",
       "      <td>2</td>\n",
       "      <td>1</td>\n",
       "      <td>ANA</td>\n",
       "      <td>CHN</td>\n",
       "      <td>4</td>\n",
       "      <td>1</td>\n",
       "      <td>0</td>\n",
       "      <td>0</td>\n",
       "      <td>0</td>\n",
       "      <td>1</td>\n",
       "    </tr>\n",
       "    <tr>\n",
       "      <th>2</th>\n",
       "      <td>ANA201604040</td>\n",
       "      <td>CHN</td>\n",
       "      <td>ANA</td>\n",
       "      <td>3</td>\n",
       "      <td>1</td>\n",
       "      <td>ANA</td>\n",
       "      <td>CHN</td>\n",
       "      <td>8</td>\n",
       "      <td>1</td>\n",
       "      <td>0</td>\n",
       "      <td>0</td>\n",
       "      <td>0</td>\n",
       "      <td>0</td>\n",
       "    </tr>\n",
       "    <tr>\n",
       "      <th>3</th>\n",
       "      <td>ANA201604040</td>\n",
       "      <td>CHN</td>\n",
       "      <td>ANA</td>\n",
       "      <td>4</td>\n",
       "      <td>1</td>\n",
       "      <td>ANA</td>\n",
       "      <td>CHN</td>\n",
       "      <td>2</td>\n",
       "      <td>3</td>\n",
       "      <td>0</td>\n",
       "      <td>0</td>\n",
       "      <td>0</td>\n",
       "      <td>0</td>\n",
       "    </tr>\n",
       "    <tr>\n",
       "      <th>4</th>\n",
       "      <td>ANA201604040</td>\n",
       "      <td>CHN</td>\n",
       "      <td>ANA</td>\n",
       "      <td>5</td>\n",
       "      <td>1</td>\n",
       "      <td>ANA</td>\n",
       "      <td>CHN</td>\n",
       "      <td>5</td>\n",
       "      <td>3</td>\n",
       "      <td>0</td>\n",
       "      <td>0</td>\n",
       "      <td>0</td>\n",
       "      <td>0</td>\n",
       "    </tr>\n",
       "  </tbody>\n",
       "</table>\n",
       "</div>"
      ],
      "text/plain": [
       "         GameID Away Home Inning  BotFlag Batting Pitching  Leadoff  \\\n",
       "0  ANA201604040  CHN  ANA      1        1     ANA      CHN        1   \n",
       "1  ANA201604040  CHN  ANA      2        1     ANA      CHN        4   \n",
       "2  ANA201604040  CHN  ANA      3        1     ANA      CHN        8   \n",
       "3  ANA201604040  CHN  ANA      4        1     ANA      CHN        2   \n",
       "4  ANA201604040  CHN  ANA      5        1     ANA      CHN        5   \n",
       "\n",
       "   AwayScore  HomeScore  BatScore  Runs  Hits  \n",
       "0          1          0         0     0     0  \n",
       "1          1          0         0     0     1  \n",
       "2          1          0         0     0     0  \n",
       "3          3          0         0     0     0  \n",
       "4          3          0         0     0     0  "
      ]
     },
     "execution_count": 17,
     "metadata": {},
     "output_type": "execute_result"
    }
   ],
   "source": [
    "innings.head()"
   ]
  },
  {
   "cell_type": "code",
   "execution_count": 18,
   "metadata": {
    "collapsed": false
   },
   "outputs": [],
   "source": [
    "runs_flag = []\n",
    "run_diff = []\n",
    "\n",
    "for row in innings.itertuples():\n",
    "    runs_flag.append(row.Runs > 0)\n",
    "    if (row.BotFlag == 1):\n",
    "        run_diff.append(row.HomeScore-row.AwayScore)\n",
    "    else:\n",
    "        run_diff.append(row.AwayScore-row.HomeScore)"
   ]
  },
  {
   "cell_type": "code",
   "execution_count": 19,
   "metadata": {
    "collapsed": false
   },
   "outputs": [],
   "source": [
    "innings['RunDiff'] = run_diff\n",
    "innings['RunsFlag'] = runs_flag"
   ]
  },
  {
   "cell_type": "code",
   "execution_count": 128,
   "metadata": {
    "collapsed": false
   },
   "outputs": [
    {
     "data": {
      "text/html": [
       "<div>\n",
       "<style>\n",
       "    .dataframe thead tr:only-child th {\n",
       "        text-align: right;\n",
       "    }\n",
       "\n",
       "    .dataframe thead th {\n",
       "        text-align: left;\n",
       "    }\n",
       "\n",
       "    .dataframe tbody tr th {\n",
       "        vertical-align: top;\n",
       "    }\n",
       "</style>\n",
       "<table border=\"1\" class=\"dataframe\">\n",
       "  <thead>\n",
       "    <tr style=\"text-align: right;\">\n",
       "      <th></th>\n",
       "      <th>GameID</th>\n",
       "      <th>Away</th>\n",
       "      <th>Home</th>\n",
       "      <th>Inning</th>\n",
       "      <th>BotFlag</th>\n",
       "      <th>Batting</th>\n",
       "      <th>Pitching</th>\n",
       "      <th>Leadoff</th>\n",
       "      <th>AwayScore</th>\n",
       "      <th>HomeScore</th>\n",
       "      <th>BatScore</th>\n",
       "      <th>Runs</th>\n",
       "      <th>Hits</th>\n",
       "      <th>RunDiff</th>\n",
       "      <th>RunsFlag</th>\n",
       "    </tr>\n",
       "  </thead>\n",
       "  <tbody>\n",
       "    <tr>\n",
       "      <th>0</th>\n",
       "      <td>ANA201604040</td>\n",
       "      <td>CHN</td>\n",
       "      <td>ANA</td>\n",
       "      <td>1</td>\n",
       "      <td>1</td>\n",
       "      <td>ANA</td>\n",
       "      <td>CHN</td>\n",
       "      <td>1</td>\n",
       "      <td>1</td>\n",
       "      <td>0</td>\n",
       "      <td>0</td>\n",
       "      <td>0</td>\n",
       "      <td>0</td>\n",
       "      <td>-1</td>\n",
       "      <td>False</td>\n",
       "    </tr>\n",
       "    <tr>\n",
       "      <th>1</th>\n",
       "      <td>ANA201604040</td>\n",
       "      <td>CHN</td>\n",
       "      <td>ANA</td>\n",
       "      <td>2</td>\n",
       "      <td>1</td>\n",
       "      <td>ANA</td>\n",
       "      <td>CHN</td>\n",
       "      <td>4</td>\n",
       "      <td>1</td>\n",
       "      <td>0</td>\n",
       "      <td>0</td>\n",
       "      <td>0</td>\n",
       "      <td>1</td>\n",
       "      <td>-1</td>\n",
       "      <td>False</td>\n",
       "    </tr>\n",
       "    <tr>\n",
       "      <th>2</th>\n",
       "      <td>ANA201604040</td>\n",
       "      <td>CHN</td>\n",
       "      <td>ANA</td>\n",
       "      <td>3</td>\n",
       "      <td>1</td>\n",
       "      <td>ANA</td>\n",
       "      <td>CHN</td>\n",
       "      <td>8</td>\n",
       "      <td>1</td>\n",
       "      <td>0</td>\n",
       "      <td>0</td>\n",
       "      <td>0</td>\n",
       "      <td>0</td>\n",
       "      <td>-1</td>\n",
       "      <td>False</td>\n",
       "    </tr>\n",
       "    <tr>\n",
       "      <th>3</th>\n",
       "      <td>ANA201604040</td>\n",
       "      <td>CHN</td>\n",
       "      <td>ANA</td>\n",
       "      <td>4</td>\n",
       "      <td>1</td>\n",
       "      <td>ANA</td>\n",
       "      <td>CHN</td>\n",
       "      <td>2</td>\n",
       "      <td>3</td>\n",
       "      <td>0</td>\n",
       "      <td>0</td>\n",
       "      <td>0</td>\n",
       "      <td>0</td>\n",
       "      <td>-3</td>\n",
       "      <td>False</td>\n",
       "    </tr>\n",
       "    <tr>\n",
       "      <th>4</th>\n",
       "      <td>ANA201604040</td>\n",
       "      <td>CHN</td>\n",
       "      <td>ANA</td>\n",
       "      <td>5</td>\n",
       "      <td>1</td>\n",
       "      <td>ANA</td>\n",
       "      <td>CHN</td>\n",
       "      <td>5</td>\n",
       "      <td>3</td>\n",
       "      <td>0</td>\n",
       "      <td>0</td>\n",
       "      <td>0</td>\n",
       "      <td>0</td>\n",
       "      <td>-3</td>\n",
       "      <td>False</td>\n",
       "    </tr>\n",
       "  </tbody>\n",
       "</table>\n",
       "</div>"
      ],
      "text/plain": [
       "         GameID Away Home Inning  BotFlag Batting Pitching  Leadoff  \\\n",
       "0  ANA201604040  CHN  ANA      1        1     ANA      CHN        1   \n",
       "1  ANA201604040  CHN  ANA      2        1     ANA      CHN        4   \n",
       "2  ANA201604040  CHN  ANA      3        1     ANA      CHN        8   \n",
       "3  ANA201604040  CHN  ANA      4        1     ANA      CHN        2   \n",
       "4  ANA201604040  CHN  ANA      5        1     ANA      CHN        5   \n",
       "\n",
       "   AwayScore  HomeScore  BatScore  Runs  Hits  RunDiff  RunsFlag  \n",
       "0          1          0         0     0     0       -1     False  \n",
       "1          1          0         0     0     1       -1     False  \n",
       "2          1          0         0     0     0       -1     False  \n",
       "3          3          0         0     0     0       -3     False  \n",
       "4          3          0         0     0     0       -3     False  "
      ]
     },
     "execution_count": 128,
     "metadata": {},
     "output_type": "execute_result"
    }
   ],
   "source": [
    "innings.head()"
   ]
  },
  {
   "cell_type": "code",
   "execution_count": 21,
   "metadata": {
    "collapsed": false
   },
   "outputs": [
    {
     "data": {
      "text/plain": [
       "<matplotlib.text.Text at 0x1d780e0ddd8>"
      ]
     },
     "execution_count": 21,
     "metadata": {},
     "output_type": "execute_result"
    },
    {
     "data": {
      "image/png": "[encoded data removed]",
      "text/plain": [
       "<matplotlib.figure.Figure at 0x1d7809787b8>"
      ]
     },
     "metadata": {},
     "output_type": "display_data"
    }
   ],
   "source": [
    "gbl = innings.groupby('Leadoff')\n",
    "gbl.mean().RunsFlag.plot(kind='bar',rot=0,figsize=(9,6))\n",
    "plt.xlabel('Leadoff Position')\n",
    "plt.ylabel('Probability of Scoring')\n",
    "plt.title('Probability of Scoring per Inning by Leadoff Position for League 2016')"
   ]
  },
  {
   "cell_type": "code",
   "execution_count": 22,
   "metadata": {
    "collapsed": false
   },
   "outputs": [
    {
     "data": {
      "text/plain": [
       "<matplotlib.text.Text at 0x1d789206748>"
      ]
     },
     "execution_count": 22,
     "metadata": {},
     "output_type": "execute_result"
    },
    {
     "data": {
      "image/png": "[encoded data removed]",
      "text/plain": [
       "<matplotlib.figure.Figure at 0x1d7890a0860>"
      ]
     },
     "metadata": {},
     "output_type": "display_data"
    }
   ],
   "source": [
    "gbi = innings.groupby('Inning')\n",
    "gbi.mean().RunsFlag.plot(kind='bar',rot=0,figsize=(9,6))\n",
    "plt.xlabel('Inning')\n",
    "plt.ylabel('Probability of Scoring')\n",
    "plt.title('Probability of Scoring per Inning for League 2016')"
   ]
  },
  {
   "cell_type": "markdown",
   "metadata": {},
   "source": [
    "The visualizations for probability of scoring are similar to the ones involving number of runs scored. "
   ]
  },
  {
   "cell_type": "markdown",
   "metadata": {},
   "source": [
    "We now proceed to testing various classification models. First, we will test whether encoding the innings/leadoff positions makes any difference."
   ]
  },
  {
   "cell_type": "code",
   "execution_count": 23,
   "metadata": {
    "collapsed": true
   },
   "outputs": [],
   "source": [
    "from sklearn.model_selection import train_test_split\n",
    "from sklearn.linear_model import LogisticRegression\n",
    "from sklearn.metrics import accuracy_score\n",
    "from sklearn.preprocessing import LabelEncoder\n",
    "from sklearn.preprocessing import OneHotEncoder\n",
    "from sklearn.metrics import recall_score\n",
    "from sklearn.metrics import precision_score\n",
    "from sklearn.metrics import confusion_matrix\n",
    "from sklearn.model_selection import GridSearchCV"
   ]
  },
  {
   "cell_type": "code",
   "execution_count": 24,
   "metadata": {
    "collapsed": false
   },
   "outputs": [],
   "source": [
    "inn_arr = innings.Inning.astype(str)\n",
    "le_inn = LabelEncoder()\n",
    "le_inn.fit(inn_arr)\n",
    "inn_tf = le_inn.transform(inn_arr)"
   ]
  },
  {
   "cell_type": "code",
   "execution_count": 25,
   "metadata": {
    "collapsed": false
   },
   "outputs": [],
   "source": [
    "lo_arr = innings.Leadoff.astype(str)\n",
    "le_lo = LabelEncoder()\n",
    "le_lo.fit(lo_arr)\n",
    "lo_tf = le_lo.transform(lo_arr)"
   ]
  },
  {
   "cell_type": "code",
   "execution_count": 26,
   "metadata": {
    "collapsed": false
   },
   "outputs": [
    {
     "data": {
      "text/html": [
       "<div>\n",
       "<style>\n",
       "    .dataframe thead tr:only-child th {\n",
       "        text-align: right;\n",
       "    }\n",
       "\n",
       "    .dataframe thead th {\n",
       "        text-align: left;\n",
       "    }\n",
       "\n",
       "    .dataframe tbody tr th {\n",
       "        vertical-align: top;\n",
       "    }\n",
       "</style>\n",
       "<table border=\"1\" class=\"dataframe\">\n",
       "  <thead>\n",
       "    <tr style=\"text-align: right;\">\n",
       "      <th></th>\n",
       "      <th>GameID</th>\n",
       "      <th>Away</th>\n",
       "      <th>Home</th>\n",
       "      <th>Inning</th>\n",
       "      <th>BotFlag</th>\n",
       "      <th>Leadoff</th>\n",
       "      <th>AwayScore</th>\n",
       "      <th>HomeScore</th>\n",
       "      <th>Runs</th>\n",
       "      <th>Hits</th>\n",
       "    </tr>\n",
       "  </thead>\n",
       "  <tbody>\n",
       "    <tr>\n",
       "      <th>0</th>\n",
       "      <td>ANA201604040</td>\n",
       "      <td>CHN</td>\n",
       "      <td>ANA</td>\n",
       "      <td>0</td>\n",
       "      <td>1</td>\n",
       "      <td>0</td>\n",
       "      <td>1</td>\n",
       "      <td>0</td>\n",
       "      <td>0</td>\n",
       "      <td>0</td>\n",
       "    </tr>\n",
       "    <tr>\n",
       "      <th>1</th>\n",
       "      <td>ANA201604040</td>\n",
       "      <td>CHN</td>\n",
       "      <td>ANA</td>\n",
       "      <td>2</td>\n",
       "      <td>1</td>\n",
       "      <td>3</td>\n",
       "      <td>1</td>\n",
       "      <td>0</td>\n",
       "      <td>0</td>\n",
       "      <td>1</td>\n",
       "    </tr>\n",
       "    <tr>\n",
       "      <th>2</th>\n",
       "      <td>ANA201604040</td>\n",
       "      <td>CHN</td>\n",
       "      <td>ANA</td>\n",
       "      <td>3</td>\n",
       "      <td>1</td>\n",
       "      <td>7</td>\n",
       "      <td>1</td>\n",
       "      <td>0</td>\n",
       "      <td>0</td>\n",
       "      <td>0</td>\n",
       "    </tr>\n",
       "    <tr>\n",
       "      <th>3</th>\n",
       "      <td>ANA201604040</td>\n",
       "      <td>CHN</td>\n",
       "      <td>ANA</td>\n",
       "      <td>4</td>\n",
       "      <td>1</td>\n",
       "      <td>1</td>\n",
       "      <td>3</td>\n",
       "      <td>0</td>\n",
       "      <td>0</td>\n",
       "      <td>0</td>\n",
       "    </tr>\n",
       "    <tr>\n",
       "      <th>4</th>\n",
       "      <td>ANA201604040</td>\n",
       "      <td>CHN</td>\n",
       "      <td>ANA</td>\n",
       "      <td>5</td>\n",
       "      <td>1</td>\n",
       "      <td>4</td>\n",
       "      <td>3</td>\n",
       "      <td>0</td>\n",
       "      <td>0</td>\n",
       "      <td>0</td>\n",
       "    </tr>\n",
       "  </tbody>\n",
       "</table>\n",
       "</div>"
      ],
      "text/plain": [
       "         GameID Away Home  Inning  BotFlag  Leadoff  AwayScore  HomeScore  \\\n",
       "0  ANA201604040  CHN  ANA       0        1        0          1          0   \n",
       "1  ANA201604040  CHN  ANA       2        1        3          1          0   \n",
       "2  ANA201604040  CHN  ANA       3        1        7          1          0   \n",
       "3  ANA201604040  CHN  ANA       4        1        1          3          0   \n",
       "4  ANA201604040  CHN  ANA       5        1        4          3          0   \n",
       "\n",
       "   Runs  Hits  \n",
       "0     0     0  \n",
       "1     0     1  \n",
       "2     0     0  \n",
       "3     0     0  \n",
       "4     0     0  "
      ]
     },
     "execution_count": 26,
     "metadata": {},
     "output_type": "execute_result"
    }
   ],
   "source": [
    "innings_enc = pd.DataFrame({'GameID': game_id, 'Away': away_team, 'Home': home_team, 'Inning':inn_tf, 'BotFlag': bat_team, \\\n",
    "        'Leadoff': lo_tf, 'Runs': runs, 'Hits': hits, 'AwayScore': away_score, 'HomeScore': home_score})\n",
    "cols = ['GameID','Away','Home','Inning','BotFlag','Leadoff','AwayScore','HomeScore','Runs','Hits']\n",
    "innings_enc = innings_enc[cols]\n",
    "innings_enc.head()"
   ]
  },
  {
   "cell_type": "code",
   "execution_count": 27,
   "metadata": {
    "collapsed": false
   },
   "outputs": [],
   "source": [
    "inn_lo = np.matrix([inn_tf,lo_tf]).T\n",
    "enc = OneHotEncoder(sparse=False)\n",
    "encoded = enc.fit_transform(inn_lo)"
   ]
  },
  {
   "cell_type": "code",
   "execution_count": 28,
   "metadata": {
    "collapsed": false
   },
   "outputs": [],
   "source": [
    "X_select = np.hstack((encoded,np.matrix(innings.RunDiff).T))"
   ]
  },
  {
   "cell_type": "code",
   "execution_count": 29,
   "metadata": {
    "collapsed": false
   },
   "outputs": [],
   "source": [
    "X, Xtest, Y, Ytest = train_test_split(X_select, innings[['RunsFlag']].values,random_state=1)"
   ]
  },
  {
   "cell_type": "code",
   "execution_count": 30,
   "metadata": {
    "collapsed": false
   },
   "outputs": [
    {
     "name": "stdout",
     "output_type": "stream",
     "text": [
      "Accuracy: 0.727473538886\n",
      "Precision: 0.0\n",
      "Recall: 0.0\n"
     ]
    },
    {
     "name": "stderr",
     "output_type": "stream",
     "text": [
      "D:\\Anaconda3\\lib\\site-packages\\sklearn\\metrics\\classification.py:1137: UndefinedMetricWarning: Recall is ill-defined and being set to 0.0 due to no true samples.\n",
      "  'recall', 'true', average, warn_for)\n"
     ]
    }
   ],
   "source": [
    "clf = LogisticRegression()\n",
    "clf.fit(X,Y.ravel())\n",
    "print(\"Accuracy:\",accuracy_score(clf.predict(Xtest),Ytest))\n",
    "print(\"Precision:\",precision_score(clf.predict(Xtest),Ytest))\n",
    "print(\"Recall:\",recall_score(clf.predict(Xtest),Ytest))"
   ]
  },
  {
   "cell_type": "code",
   "execution_count": 31,
   "metadata": {
    "collapsed": false
   },
   "outputs": [
    {
     "data": {
      "text/plain": [
       "array([[7904, 2961],\n",
       "       [   0,    0]], dtype=int64)"
      ]
     },
     "execution_count": 31,
     "metadata": {},
     "output_type": "execute_result"
    }
   ],
   "source": [
    "confusion_matrix(clf.predict(Xtest),Ytest)"
   ]
  },
  {
   "cell_type": "markdown",
   "metadata": {},
   "source": [
    "Without treating as categorical variables, we return to not using OHE for the features:"
   ]
  },
  {
   "cell_type": "code",
   "execution_count": 32,
   "metadata": {
    "collapsed": false
   },
   "outputs": [
    {
     "name": "stdout",
     "output_type": "stream",
     "text": [
      "Accuracy: 0.727473538886\n",
      "Precision: 0.0\n",
      "Recall: 0.0\n"
     ]
    },
    {
     "name": "stderr",
     "output_type": "stream",
     "text": [
      "D:\\Anaconda3\\lib\\site-packages\\sklearn\\metrics\\classification.py:1137: UndefinedMetricWarning: Recall is ill-defined and being set to 0.0 due to no true samples.\n",
      "  'recall', 'true', average, warn_for)\n"
     ]
    }
   ],
   "source": [
    "X_select = np.matrix((leadoff_pos,inn_int,run_diff)).T\n",
    "X, Xtest, Y, Ytest = train_test_split(X_select, innings[['RunsFlag']].values,random_state=1)\n",
    "clf = LogisticRegression()\n",
    "clf.fit(X,Y.ravel())\n",
    "print(\"Accuracy:\",accuracy_score(clf.predict(Xtest),Ytest))\n",
    "print(\"Precision:\",precision_score(clf.predict(Xtest),Ytest))\n",
    "print(\"Recall:\",recall_score(clf.predict(Xtest),Ytest))"
   ]
  },
  {
   "cell_type": "code",
   "execution_count": 33,
   "metadata": {
    "collapsed": false
   },
   "outputs": [
    {
     "data": {
      "text/plain": [
       "array([[7904, 2961],\n",
       "       [   0,    0]], dtype=int64)"
      ]
     },
     "execution_count": 33,
     "metadata": {},
     "output_type": "execute_result"
    }
   ],
   "source": [
    "confusion_matrix(clf.predict(Xtest),Ytest)"
   ]
  },
  {
   "cell_type": "code",
   "execution_count": 34,
   "metadata": {
    "collapsed": false
   },
   "outputs": [
    {
     "name": "stdout",
     "output_type": "stream",
     "text": [
      "Best score: 0.725961833466\n",
      "Best C: {'C': 0.001}\n"
     ]
    }
   ],
   "source": [
    "clf = LogisticRegression()\n",
    "Cs = [0.001, 0.1, 1, 10, 100]\n",
    "params = {\"C\":Cs}\n",
    "gsmodel = GridSearchCV(clf,param_grid=params,cv=5)\n",
    "gsmodel.fit(X,Y.ravel())\n",
    "print(\"Best score:\",gsmodel.best_score_)\n",
    "print(\"Best C:\",gsmodel.best_params_)"
   ]
  },
  {
   "cell_type": "code",
   "execution_count": 35,
   "metadata": {
    "collapsed": false
   },
   "outputs": [
    {
     "name": "stdout",
     "output_type": "stream",
     "text": [
      "Accuracy: 0.727473538886\n",
      "Precision: 0.0\n",
      "Recall: 0.0\n"
     ]
    },
    {
     "name": "stderr",
     "output_type": "stream",
     "text": [
      "D:\\Anaconda3\\lib\\site-packages\\sklearn\\metrics\\classification.py:1137: UndefinedMetricWarning: Recall is ill-defined and being set to 0.0 due to no true samples.\n",
      "  'recall', 'true', average, warn_for)\n"
     ]
    }
   ],
   "source": [
    "test_fit = LogisticRegression(C=0.001)\n",
    "test_fit.fit(X,Y.ravel())\n",
    "print(\"Accuracy:\",accuracy_score(test_fit.predict(Xtest),Ytest))\n",
    "print(\"Precision:\",precision_score(test_fit.predict(Xtest),Ytest))\n",
    "print(\"Recall:\",recall_score(test_fit.predict(Xtest),Ytest))"
   ]
  },
  {
   "cell_type": "markdown",
   "metadata": {},
   "source": [
    "The performance is still poor, so we test a Random Forest Classifier:"
   ]
  },
  {
   "cell_type": "code",
   "execution_count": 36,
   "metadata": {
    "collapsed": false
   },
   "outputs": [],
   "source": [
    "from sklearn.ensemble import RandomForestClassifier"
   ]
  },
  {
   "cell_type": "code",
   "execution_count": 37,
   "metadata": {
    "collapsed": false
   },
   "outputs": [
    {
     "name": "stdout",
     "output_type": "stream",
     "text": [
      "Accuracy: 0.718269673263\n",
      "Precision: 0.0290442418102\n",
      "Recall: 0.316176470588\n"
     ]
    }
   ],
   "source": [
    "X, Xtest, Y, Ytest = train_test_split(X_select, innings[['RunsFlag']].values,random_state=1)\n",
    "\n",
    "clf = RandomForestClassifier()\n",
    "clf.fit(X,Y.ravel())\n",
    "print(\"Accuracy:\",accuracy_score(clf.predict(Xtest),Ytest))\n",
    "print(\"Precision:\",precision_score(clf.predict(Xtest),Ytest))\n",
    "print(\"Recall:\",recall_score(clf.predict(Xtest),Ytest))"
   ]
  },
  {
   "cell_type": "code",
   "execution_count": 38,
   "metadata": {
    "collapsed": false
   },
   "outputs": [
    {
     "data": {
      "text/plain": [
       "array([[7718, 2875],\n",
       "       [ 186,   86]], dtype=int64)"
      ]
     },
     "execution_count": 38,
     "metadata": {},
     "output_type": "execute_result"
    }
   ],
   "source": [
    "confusion_matrix(clf.predict(Xtest),Ytest)"
   ]
  },
  {
   "cell_type": "markdown",
   "metadata": {},
   "source": [
    "Better, but still not that good. Perhaps more features are needed, so we add features of which teams are playing (needs encoding)"
   ]
  },
  {
   "cell_type": "code",
   "execution_count": 39,
   "metadata": {
    "collapsed": true
   },
   "outputs": [],
   "source": [
    "bat_enc = LabelEncoder()\n",
    "bat_tf = bat_enc.fit_transform(innings.Batting)\n",
    "pitch_enc = LabelEncoder()\n",
    "pitch_tf = pitch_enc.fit_transform(innings.Pitching)"
   ]
  },
  {
   "cell_type": "code",
   "execution_count": 40,
   "metadata": {
    "collapsed": false
   },
   "outputs": [
    {
     "data": {
      "text/plain": [
       "matrix([[ 1.,  0.,  0., ...,  1.,  1., -1.],\n",
       "        [ 1.,  0.,  0., ...,  4.,  2., -1.],\n",
       "        [ 1.,  0.,  0., ...,  8.,  3., -1.],\n",
       "        ..., \n",
       "        [ 0.,  0.,  0., ...,  9.,  6.,  3.],\n",
       "        [ 0.,  0.,  0., ...,  3.,  7.,  3.],\n",
       "        [ 0.,  0.,  0., ...,  7.,  8.,  1.]])"
      ]
     },
     "execution_count": 40,
     "metadata": {},
     "output_type": "execute_result"
    }
   ],
   "source": [
    "inn_lo = np.matrix([bat_tf,pitch_tf]).T\n",
    "enc = OneHotEncoder(sparse=False)\n",
    "encoded = enc.fit_transform(inn_lo)\n",
    "X_enc_select = np.hstack((encoded,X_select))\n",
    "X_enc_select"
   ]
  },
  {
   "cell_type": "code",
   "execution_count": 41,
   "metadata": {
    "collapsed": true
   },
   "outputs": [],
   "source": [
    "X, Xtest, Y, Ytest = train_test_split(X_enc_select,runs_flag,random_state=1)"
   ]
  },
  {
   "cell_type": "code",
   "execution_count": 42,
   "metadata": {
    "collapsed": false
   },
   "outputs": [
    {
     "name": "stdout",
     "output_type": "stream",
     "text": [
      "Best score: 0.725961833466\n",
      "Best C: {'C': 0.001}\n"
     ]
    }
   ],
   "source": [
    "clf = LogisticRegression()\n",
    "Cs = [0.001, 0.1, 1, 10, 100]\n",
    "params = {\"C\":Cs}\n",
    "gsmodel = GridSearchCV(clf,param_grid=params,cv=5)\n",
    "gsmodel.fit(X,Y)\n",
    "print(\"Best score:\",gsmodel.best_score_)\n",
    "print(\"Best C:\",gsmodel.best_params_)"
   ]
  },
  {
   "cell_type": "code",
   "execution_count": 43,
   "metadata": {
    "collapsed": false
   },
   "outputs": [
    {
     "name": "stdout",
     "output_type": "stream",
     "text": [
      "Train Accuracy: 0.725961833466 | Test Accuracy: 0.727473538886\n",
      "Train Precision: 0.0 | Test Precision: 0.0\n",
      "Train Recall: 0.0 | Test Recall: 0.0\n"
     ]
    },
    {
     "name": "stderr",
     "output_type": "stream",
     "text": [
      "D:\\Anaconda3\\lib\\site-packages\\sklearn\\metrics\\classification.py:1137: UndefinedMetricWarning: Recall is ill-defined and being set to 0.0 due to no true samples.\n",
      "  'recall', 'true', average, warn_for)\n"
     ]
    }
   ],
   "source": [
    "test_fit = LogisticRegression(C=0.001)\n",
    "test_fit.fit(X,Y)\n",
    "print(\"Train Accuracy:\",accuracy_score(test_fit.predict(X),Y),\"| Test Accuracy:\",accuracy_score(test_fit.predict(Xtest),Ytest))\n",
    "print(\"Train Precision:\",precision_score(test_fit.predict(X),Y),\"| Test Precision:\",precision_score(test_fit.predict(Xtest),Ytest))\n",
    "print(\"Train Recall:\",recall_score(test_fit.predict(X),Y),\"| Test Recall:\",recall_score(test_fit.predict(Xtest),Ytest))"
   ]
  },
  {
   "cell_type": "markdown",
   "metadata": {},
   "source": [
    "The performance is still subpar. Maybe the imbalanced data is the cause (roughly 30-70 split for T/F). Considering stratification along the Runs Flag:"
   ]
  },
  {
   "cell_type": "code",
   "execution_count": 44,
   "metadata": {
    "collapsed": true
   },
   "outputs": [],
   "source": [
    "X, Xtest, Y, Ytest = train_test_split(X_enc_select,runs_flag,random_state=1,stratify=runs_flag)"
   ]
  },
  {
   "cell_type": "code",
   "execution_count": 45,
   "metadata": {
    "collapsed": false
   },
   "outputs": [
    {
     "name": "stdout",
     "output_type": "stream",
     "text": [
      "Best score: 0.726329999386\n",
      "Best C: {'C': 0.001}\n"
     ]
    }
   ],
   "source": [
    "clf = LogisticRegression()\n",
    "Cs = [0.001, 0.1, 1, 10, 100]\n",
    "params = {\"C\":Cs}\n",
    "gsmodel = GridSearchCV(clf,param_grid=params,cv=5)\n",
    "gsmodel.fit(X,Y)\n",
    "print(\"Best score:\",gsmodel.best_score_)\n",
    "print(\"Best C:\",gsmodel.best_params_)"
   ]
  },
  {
   "cell_type": "code",
   "execution_count": 46,
   "metadata": {
    "collapsed": false
   },
   "outputs": [
    {
     "name": "stdout",
     "output_type": "stream",
     "text": [
      "Train Accuracy: 0.726329999386 | Test Accuracy: 0.726369075012\n",
      "Train Precision: 0.0 | Test Precision: 0.0\n",
      "Train Recall: 0.0 | Test Recall: 0.0\n"
     ]
    },
    {
     "name": "stderr",
     "output_type": "stream",
     "text": [
      "D:\\Anaconda3\\lib\\site-packages\\sklearn\\metrics\\classification.py:1137: UndefinedMetricWarning: Recall is ill-defined and being set to 0.0 due to no true samples.\n",
      "  'recall', 'true', average, warn_for)\n"
     ]
    }
   ],
   "source": [
    "test_fit = LogisticRegression(C=0.001)\n",
    "test_fit.fit(X,Y)\n",
    "print(\"Train Accuracy:\",accuracy_score(test_fit.predict(X),Y),\"| Test Accuracy:\",accuracy_score(test_fit.predict(Xtest),Ytest))\n",
    "print(\"Train Precision:\",precision_score(test_fit.predict(X),Y),\"| Test Precision:\",precision_score(test_fit.predict(Xtest),Ytest))\n",
    "print(\"Train Recall:\",recall_score(test_fit.predict(X),Y),\"| Test Recall:\",recall_score(test_fit.predict(Xtest),Ytest))"
   ]
  },
  {
   "cell_type": "markdown",
   "metadata": {},
   "source": [
    "Stratification did not seem to do much. Proceed with Oversampling and Undersampling the data such that there are the same number of points with True and False. Continue with using stratification."
   ]
  },
  {
   "cell_type": "code",
   "execution_count": 47,
   "metadata": {
    "collapsed": true
   },
   "outputs": [],
   "source": [
    "from imblearn.over_sampling import RandomOverSampler\n",
    "from imblearn.under_sampling import RandomUnderSampler"
   ]
  },
  {
   "cell_type": "code",
   "execution_count": 48,
   "metadata": {
    "collapsed": true
   },
   "outputs": [],
   "source": [
    "ada = RandomOverSampler(random_state=11)\n",
    "X_res, Y_res = ada.fit_sample(X_enc_select, innings[['RunsFlag']].values.ravel())"
   ]
  },
  {
   "cell_type": "code",
   "execution_count": 49,
   "metadata": {
    "collapsed": false
   },
   "outputs": [
    {
     "data": {
      "text/plain": [
       "(array([False,  True], dtype=bool), array([31566, 11893], dtype=int64))"
      ]
     },
     "execution_count": 49,
     "metadata": {},
     "output_type": "execute_result"
    }
   ],
   "source": [
    "np.unique(innings[['RunsFlag']].values.ravel(),return_counts=True)"
   ]
  },
  {
   "cell_type": "code",
   "execution_count": 50,
   "metadata": {
    "collapsed": false
   },
   "outputs": [
    {
     "data": {
      "text/plain": [
       "(array([False,  True], dtype=bool), array([31566, 31566], dtype=int64))"
      ]
     },
     "execution_count": 50,
     "metadata": {},
     "output_type": "execute_result"
    }
   ],
   "source": [
    "np.unique(Y_res,return_counts=True)"
   ]
  },
  {
   "cell_type": "code",
   "execution_count": 51,
   "metadata": {
    "collapsed": true
   },
   "outputs": [],
   "source": [
    "X, Xtest, Y, Ytest = train_test_split(X_res,Y_res,random_state=1,stratify=Y_res)"
   ]
  },
  {
   "cell_type": "code",
   "execution_count": 52,
   "metadata": {
    "collapsed": false
   },
   "outputs": [
    {
     "name": "stdout",
     "output_type": "stream",
     "text": [
      "Best score: 0.531711334981\n",
      "Best C: {'C': 0.001}\n"
     ]
    }
   ],
   "source": [
    "clf = LogisticRegression()\n",
    "Cs = [0.001, 0.1, 1, 10, 100]\n",
    "params = {\"C\":Cs}\n",
    "gsmodel = GridSearchCV(clf,param_grid=params,cv=5)\n",
    "gsmodel.fit(X,Y)\n",
    "print(\"Best score:\",gsmodel.best_score_)\n",
    "print(\"Best C:\",gsmodel.best_params_)"
   ]
  },
  {
   "cell_type": "code",
   "execution_count": 53,
   "metadata": {
    "collapsed": false
   },
   "outputs": [
    {
     "name": "stdout",
     "output_type": "stream",
     "text": [
      "Train Accuracy: 0.533274197977 | Test Accuracy: 0.528986884623\n",
      "Train Precision: 0.475880713019 | Test Precision: 0.465788139888\n",
      "Train Recall: 0.537576943265 | Test Recall: 0.533217290397\n"
     ]
    }
   ],
   "source": [
    "test_fit = LogisticRegression(C=0.001)\n",
    "test_fit.fit(X,Y)\n",
    "print(\"Train Accuracy:\",accuracy_score(test_fit.predict(X),Y),\"| Test Accuracy:\",accuracy_score(test_fit.predict(Xtest),Ytest))\n",
    "print(\"Train Precision:\",precision_score(test_fit.predict(X),Y),\"| Test Precision:\",precision_score(test_fit.predict(Xtest),Ytest))\n",
    "print(\"Train Recall:\",recall_score(test_fit.predict(X),Y),\"| Test Recall:\",recall_score(test_fit.predict(Xtest),Ytest))"
   ]
  },
  {
   "cell_type": "code",
   "execution_count": 54,
   "metadata": {
    "collapsed": false
   },
   "outputs": [
    {
     "data": {
      "text/plain": [
       "array([[4673, 4216],\n",
       "       [3218, 3676]], dtype=int64)"
      ]
     },
     "execution_count": 54,
     "metadata": {},
     "output_type": "execute_result"
    }
   ],
   "source": [
    "confusion_matrix(test_fit.predict(Xtest),Ytest)"
   ]
  },
  {
   "cell_type": "code",
   "execution_count": 55,
   "metadata": {
    "collapsed": true
   },
   "outputs": [],
   "source": [
    "ada = RandomUnderSampler(random_state=11)\n",
    "X_res, Y_res = ada.fit_sample(X_enc_select, innings[['RunsFlag']].values.ravel())"
   ]
  },
  {
   "cell_type": "code",
   "execution_count": 56,
   "metadata": {
    "collapsed": false
   },
   "outputs": [
    {
     "data": {
      "text/plain": [
       "(array([False,  True], dtype=bool), array([11893, 11893], dtype=int64))"
      ]
     },
     "execution_count": 56,
     "metadata": {},
     "output_type": "execute_result"
    }
   ],
   "source": [
    "np.unique(Y_res,return_counts=True)"
   ]
  },
  {
   "cell_type": "code",
   "execution_count": 57,
   "metadata": {
    "collapsed": true
   },
   "outputs": [],
   "source": [
    "X, Xtest, Y, Ytest = train_test_split(X_res,Y_res,random_state=1,stratify=Y_res)"
   ]
  },
  {
   "cell_type": "code",
   "execution_count": 58,
   "metadata": {
    "collapsed": false
   },
   "outputs": [
    {
     "name": "stdout",
     "output_type": "stream",
     "text": [
      "Best score: 0.528561017994\n",
      "Best C: {'C': 0.001}\n"
     ]
    }
   ],
   "source": [
    "clf = LogisticRegression()\n",
    "Cs = [0.001, 0.1, 1, 10, 100]\n",
    "params = {\"C\":Cs}\n",
    "gsmodel = GridSearchCV(clf,param_grid=params,cv=5)\n",
    "gsmodel.fit(X,Y)\n",
    "print(\"Best score:\",gsmodel.best_score_)\n",
    "print(\"Best C:\",gsmodel.best_params_)"
   ]
  },
  {
   "cell_type": "code",
   "execution_count": 59,
   "metadata": {
    "collapsed": false
   },
   "outputs": [
    {
     "name": "stdout",
     "output_type": "stream",
     "text": [
      "Train Accuracy: 0.534895453781 | Test Accuracy: 0.528838069615\n",
      "Train Precision: 0.418096199125 | Test Precision: 0.41492938803\n",
      "Train Recall: 0.545494441194 | Test Recall: 0.537456445993\n"
     ]
    }
   ],
   "source": [
    "test_fit = LogisticRegression(C=0.001)\n",
    "test_fit.fit(X,Y)\n",
    "print(\"Train Accuracy:\",accuracy_score(test_fit.predict(X),Y),\"| Test Accuracy:\",accuracy_score(test_fit.predict(Xtest),Ytest))\n",
    "print(\"Train Precision:\",precision_score(test_fit.predict(X),Y),\"| Test Precision:\",precision_score(test_fit.predict(Xtest),Ytest))\n",
    "print(\"Train Recall:\",recall_score(test_fit.predict(X),Y),\"| Test Recall:\",recall_score(test_fit.predict(Xtest),Ytest))"
   ]
  },
  {
   "cell_type": "code",
   "execution_count": 60,
   "metadata": {
    "collapsed": false
   },
   "outputs": [
    {
     "data": {
      "text/plain": [
       "array([[1911, 1740],\n",
       "       [1062, 1234]], dtype=int64)"
      ]
     },
     "execution_count": 60,
     "metadata": {},
     "output_type": "execute_result"
    }
   ],
   "source": [
    "confusion_matrix(test_fit.predict(Xtest),Ytest)"
   ]
  },
  {
   "cell_type": "markdown",
   "metadata": {},
   "source": [
    "Oversampling seemed a little better, but the results are not much better than guessing. Perhaps Logistic Regression is not suited for this problem."
   ]
  },
  {
   "cell_type": "markdown",
   "metadata": {},
   "source": [
    "Proceed with Random Forest Classifier instead:"
   ]
  },
  {
   "cell_type": "code",
   "execution_count": 61,
   "metadata": {
    "collapsed": true
   },
   "outputs": [],
   "source": [
    "ada = RandomOverSampler(random_state=11)\n",
    "X_res, Y_res = ada.fit_sample(X_enc_select, innings[['RunsFlag']].values.ravel())\n",
    "X, Xtest, Y, Ytest = train_test_split(X_res,Y_res,random_state=1,stratify=Y_res)"
   ]
  },
  {
   "cell_type": "code",
   "execution_count": 62,
   "metadata": {
    "collapsed": true
   },
   "outputs": [],
   "source": [
    "max_feat = ['auto','sqrt','log2',None]\n",
    "n_est = [10,20,30]\n",
    "min_sl = [0.25,0.4,1]\n",
    "params = {\"max_features\":max_feat,\"n_estimators\":n_est,\"min_samples_leaf\":min_sl}"
   ]
  },
  {
   "cell_type": "code",
   "execution_count": 63,
   "metadata": {
    "collapsed": false
   },
   "outputs": [
    {
     "name": "stdout",
     "output_type": "stream",
     "text": [
      "Best score: 0.747534266827\n",
      "Best params: {'min_samples_leaf': 1, 'max_features': 'auto', 'n_estimators': 30}\n"
     ]
    }
   ],
   "source": [
    "clf = RandomForestClassifier(oob_score=True,random_state=1)\n",
    "gsmodel = GridSearchCV(clf,param_grid=params,cv=5,n_jobs=-1)\n",
    "gsmodel.fit(X,Y)\n",
    "print(\"Best score:\",gsmodel.best_score_)\n",
    "print(\"Best params:\",gsmodel.best_params_)"
   ]
  },
  {
   "cell_type": "code",
   "execution_count": 64,
   "metadata": {
    "collapsed": false
   },
   "outputs": [
    {
     "name": "stdout",
     "output_type": "stream",
     "text": [
      "Test Accuracy: 0.778812646518\n",
      "Test Precision: 0.839077546883\n",
      "Test Recall: 0.7488408911\n",
      "OOB: 0.768400599801\n"
     ]
    }
   ],
   "source": [
    "test_fit = RandomForestClassifier(n_estimators=30,min_samples_leaf=1,max_features='auto',oob_score=True,random_state=1)\n",
    "test_fit.fit(X,Y)\n",
    "print(\"Test Accuracy:\",accuracy_score(test_fit.predict(Xtest),Ytest))\n",
    "print(\"Test Precision:\",precision_score(test_fit.predict(Xtest),Ytest))\n",
    "print(\"Test Recall:\",recall_score(test_fit.predict(Xtest),Ytest))\n",
    "print(\"OOB:\",test_fit.oob_score_)"
   ]
  },
  {
   "cell_type": "code",
   "execution_count": 65,
   "metadata": {
    "collapsed": false
   },
   "outputs": [
    {
     "data": {
      "text/plain": [
       "array([[5670, 1270],\n",
       "       [2221, 6622]], dtype=int64)"
      ]
     },
     "execution_count": 65,
     "metadata": {},
     "output_type": "execute_result"
    }
   ],
   "source": [
    "confusion_matrix(test_fit.predict(Xtest),Ytest)"
   ]
  },
  {
   "cell_type": "markdown",
   "metadata": {},
   "source": [
    "Promising results. Investigate ROC-AUC metrics:"
   ]
  },
  {
   "cell_type": "code",
   "execution_count": 66,
   "metadata": {
    "collapsed": true
   },
   "outputs": [],
   "source": [
    "from sklearn.metrics import roc_curve\n",
    "from sklearn.metrics import auc"
   ]
  },
  {
   "cell_type": "code",
   "execution_count": 67,
   "metadata": {
    "collapsed": false
   },
   "outputs": [
    {
     "data": {
      "text/plain": [
       "<matplotlib.legend.Legend at 0x1d78c3a89b0>"
      ]
     },
     "execution_count": 67,
     "metadata": {},
     "output_type": "execute_result"
    },
    {
     "data": {
      "image/png": "[encoded data removed]",
      "text/plain": [
       "<matplotlib.figure.Figure at 0x1d78bdce828>"
      ]
     },
     "metadata": {},
     "output_type": "display_data"
    }
   ],
   "source": [
    "scores = test_fit.predict_proba(Xtest)\n",
    "fpr, tpr, thresholds = roc_curve(Ytest,scores[:,1],pos_label=True)\n",
    "plt.figure(figsize=(6,6))\n",
    "plt.plot(fpr,tpr,color='blue',label='ROC curve (area = %0.2f)' % auc(fpr,tpr))\n",
    "plt.plot([0, 1], [0, 1], color='red',linestyle='--')\n",
    "plt.xlabel('False Positive Rate')\n",
    "plt.ylabel('True Positive Rate')\n",
    "plt.title('ROC Curve')\n",
    "plt.legend(loc=\"lower right\")"
   ]
  },
  {
   "cell_type": "markdown",
   "metadata": {},
   "source": [
    "Good results. Now, consider some additional modeling algorithms. First, K-Neighbors Classifier:"
   ]
  },
  {
   "cell_type": "code",
   "execution_count": 68,
   "metadata": {
    "collapsed": true
   },
   "outputs": [],
   "source": [
    "from sklearn.neighbors import KNeighborsClassifier"
   ]
  },
  {
   "cell_type": "code",
   "execution_count": 75,
   "metadata": {
    "collapsed": true
   },
   "outputs": [],
   "source": [
    "K = [2,3,4,5,8]\n",
    "weights = ['uniform','distance']\n",
    "leaf_size = [10,30,50]\n",
    "params = {\"n_neighbors\":K,\"weights\":weights,\"leaf_size\":leaf_size}"
   ]
  },
  {
   "cell_type": "code",
   "execution_count": 76,
   "metadata": {
    "collapsed": false
   },
   "outputs": [
    {
     "name": "stdout",
     "output_type": "stream",
     "text": [
      "Best score: 0.728695431794\n",
      "Best params: {'leaf_size': 10, 'n_neighbors': 2, 'weights': 'distance'}\n"
     ]
    }
   ],
   "source": [
    "clf = KNeighborsClassifier(n_jobs=-1)\n",
    "\n",
    "gsmodel = GridSearchCV(clf,param_grid=params,cv=5,n_jobs=-1)\n",
    "gsmodel.fit(X,Y)\n",
    "print(\"Best score:\",gsmodel.best_score_)\n",
    "print(\"Best params:\",gsmodel.best_params_)"
   ]
  },
  {
   "cell_type": "code",
   "execution_count": 77,
   "metadata": {
    "collapsed": false
   },
   "outputs": [
    {
     "name": "stdout",
     "output_type": "stream",
     "text": [
      "Train Accuracy: 0.920990939619 | Test Accuracy: 0.750364316036\n",
      "Train Precision: 0.875897609192 | Test Precision: 0.767359351242\n",
      "Train Recall: 0.962718789173 | Test Recall: 0.742156862745\n"
     ]
    }
   ],
   "source": [
    "test_fit = KNeighborsClassifier(n_neighbors=2,leaf_size=10,weights='distance',n_jobs=-1)\n",
    "test_fit.fit(X,Y)\n",
    "print(\"Train Accuracy:\",accuracy_score(test_fit.predict(X),Y),\"| Test Accuracy:\",accuracy_score(test_fit.predict(Xtest),Ytest))\n",
    "print(\"Train Precision:\",precision_score(test_fit.predict(X),Y),\"| Test Precision:\",precision_score(test_fit.predict(Xtest),Ytest))\n",
    "print(\"Train Recall:\",recall_score(test_fit.predict(X),Y),\"| Test Recall:\",recall_score(test_fit.predict(Xtest),Ytest))"
   ]
  },
  {
   "cell_type": "code",
   "execution_count": 78,
   "metadata": {
    "collapsed": false
   },
   "outputs": [
    {
     "data": {
      "text/plain": [
       "<matplotlib.legend.Legend at 0x1d78befe908>"
      ]
     },
     "execution_count": 78,
     "metadata": {},
     "output_type": "execute_result"
    },
    {
     "data": {
      "image/png": "[encoded data removed]",
      "text/plain": [
       "<matplotlib.figure.Figure at 0x1d78beab668>"
      ]
     },
     "metadata": {},
     "output_type": "display_data"
    }
   ],
   "source": [
    "scores = test_fit.predict_proba(Xtest)\n",
    "fpr, tpr, thresholds = roc_curve(Ytest,scores[:,1],pos_label=True)\n",
    "plt.figure(figsize=(6,6))\n",
    "plt.plot(fpr,tpr,color='blue',label='ROC curve (area = %0.2f)' % auc(fpr,tpr))\n",
    "plt.plot([0, 1], [0, 1], color='red',linestyle='--')\n",
    "plt.xlabel('False Positive Rate')\n",
    "plt.ylabel('True Positive Rate')\n",
    "plt.title('ROC Curve')\n",
    "plt.legend(loc=\"lower right\")"
   ]
  },
  {
   "cell_type": "markdown",
   "metadata": {},
   "source": [
    "Decent results, but not as good as Random Forest. Next, work with SVM classifiers."
   ]
  },
  {
   "cell_type": "code",
   "execution_count": 80,
   "metadata": {
    "collapsed": true
   },
   "outputs": [],
   "source": [
    "from sklearn.svm import SVC\n",
    "from sklearn.svm import LinearSVC"
   ]
  },
  {
   "cell_type": "code",
   "execution_count": 88,
   "metadata": {
    "collapsed": true
   },
   "outputs": [],
   "source": [
    "C = [0.001,0.01,0.1,1,10]\n",
    "g = [0.001,0.01,0.1,0.5,1]\n",
    "params = {\"C\":C,\"gamma\":g}"
   ]
  },
  {
   "cell_type": "code",
   "execution_count": 89,
   "metadata": {
    "collapsed": false
   },
   "outputs": [
    {
     "name": "stdout",
     "output_type": "stream",
     "text": [
      "Best score: 0.525312044605\n",
      "Best params: {'gamma': 0.5, 'C': 0.1}\n"
     ]
    },
    {
     "name": "stderr",
     "output_type": "stream",
     "text": [
      "D:\\Anaconda3\\lib\\site-packages\\sklearn\\svm\\base.py:218: ConvergenceWarning: Solver terminated early (max_iter=1000).  Consider pre-processing your data with StandardScaler or MinMaxScaler.\n",
      "  % self.max_iter, ConvergenceWarning)\n"
     ]
    }
   ],
   "source": [
    "clf = SVC(max_iter=1000,random_state=1)\n",
    "\n",
    "gsmodel = GridSearchCV(clf,param_grid=params,cv=5,n_jobs=-1)\n",
    "gsmodel.fit(X,Y)\n",
    "print(\"Best score:\",gsmodel.best_score_)\n",
    "print(\"Best params:\",gsmodel.best_params_)"
   ]
  },
  {
   "cell_type": "code",
   "execution_count": 91,
   "metadata": {
    "collapsed": false
   },
   "outputs": [
    {
     "name": "stdout",
     "output_type": "stream",
     "text": [
      "Train Accuracy: 0.769055312678 | Test Accuracy: 0.637458024457\n",
      "Train Precision: 0.765143195066 | Test Precision: 0.681829700963\n",
      "Train Recall: 0.771169483588 | Test Recall: 0.626280260708\n"
     ]
    },
    {
     "name": "stderr",
     "output_type": "stream",
     "text": [
      "D:\\Anaconda3\\lib\\site-packages\\sklearn\\svm\\base.py:218: ConvergenceWarning: Solver terminated early (max_iter=10000).  Consider pre-processing your data with StandardScaler or MinMaxScaler.\n",
      "  % self.max_iter, ConvergenceWarning)\n"
     ]
    }
   ],
   "source": [
    "test_fit = SVC(C=0.1,gamma=0.5,max_iter=10000,random_state=1)\n",
    "test_fit.fit(X,Y)\n",
    "print(\"Train Accuracy:\",accuracy_score(test_fit.predict(X),Y),\"| Test Accuracy:\",accuracy_score(test_fit.predict(Xtest),Ytest))\n",
    "print(\"Train Precision:\",precision_score(test_fit.predict(X),Y),\"| Test Precision:\",precision_score(test_fit.predict(Xtest),Ytest))\n",
    "print(\"Train Recall:\",recall_score(test_fit.predict(X),Y),\"| Test Recall:\",recall_score(test_fit.predict(Xtest),Ytest))"
   ]
  },
  {
   "cell_type": "markdown",
   "metadata": {},
   "source": [
    "Consider LinearSVC. SVC parameter tuning had extremely wrong runtime, so max_iter had to be set to a value such that the algorithm terminated in a reasonable amount of time. However, the algorithm did not converge, and increasing max_iter seemed to improve results. "
   ]
  },
  {
   "cell_type": "code",
   "execution_count": 92,
   "metadata": {
    "collapsed": true
   },
   "outputs": [],
   "source": [
    "params = {\"C\":C}"
   ]
  },
  {
   "cell_type": "code",
   "execution_count": 94,
   "metadata": {
    "collapsed": false
   },
   "outputs": [
    {
     "name": "stdout",
     "output_type": "stream",
     "text": [
      "Best score: 0.531352298887\n",
      "Best params: {'C': 1}\n"
     ]
    }
   ],
   "source": [
    "clf = LinearSVC(max_iter=1000,random_state=1)\n",
    "\n",
    "gsmodel = GridSearchCV(clf,param_grid=params,cv=5,n_jobs=-1)\n",
    "gsmodel.fit(X,Y)\n",
    "print(\"Best score:\",gsmodel.best_score_)\n",
    "print(\"Best params:\",gsmodel.best_params_)"
   ]
  },
  {
   "cell_type": "code",
   "execution_count": 95,
   "metadata": {
    "collapsed": false
   },
   "outputs": [
    {
     "name": "stdout",
     "output_type": "stream",
     "text": [
      "Train Accuracy: 0.53749815202 | Test Accuracy: 0.526832668061\n",
      "Train Precision: 0.53007518797 | Test Precision: 0.511657374557\n",
      "Train Recall: 0.538052566136 | Test Recall: 0.527705175118\n"
     ]
    }
   ],
   "source": [
    "test_fit = LinearSVC(C=1)\n",
    "test_fit.fit(X,Y)\n",
    "print(\"Train Accuracy:\",accuracy_score(test_fit.predict(X),Y),\"| Test Accuracy:\",accuracy_score(test_fit.predict(Xtest),Ytest))\n",
    "print(\"Train Precision:\",precision_score(test_fit.predict(X),Y),\"| Test Precision:\",precision_score(test_fit.predict(Xtest),Ytest))\n",
    "print(\"Train Recall:\",recall_score(test_fit.predict(X),Y),\"| Test Recall:\",recall_score(test_fit.predict(Xtest),Ytest))"
   ]
  },
  {
   "cell_type": "markdown",
   "metadata": {},
   "source": [
    "LinearSVC did not have very good results, being similar to Logistic Regression. SVC showed potential, but was handicapped by hardware limitations.  \n",
    "\n",
    "Finally, test the Decision Tree Classifier:"
   ]
  },
  {
   "cell_type": "code",
   "execution_count": 96,
   "metadata": {
    "collapsed": true
   },
   "outputs": [],
   "source": [
    "from sklearn.tree import DecisionTreeClassifier\n",
    "md = [None,3,5]\n",
    "params = {\"min_samples_leaf\":min_sl,\"max_depth\":md}"
   ]
  },
  {
   "cell_type": "code",
   "execution_count": 99,
   "metadata": {
    "collapsed": false
   },
   "outputs": [
    {
     "name": "stdout",
     "output_type": "stream",
     "text": [
      "Best score: 0.71473526368\n",
      "Best params: {'min_samples_leaf': 1, 'max_depth': None}\n"
     ]
    }
   ],
   "source": [
    "clf = DecisionTreeClassifier(random_state=1)\n",
    "\n",
    "gsmodel = GridSearchCV(clf,param_grid=params,cv=5,n_jobs=-1)\n",
    "gsmodel.fit(X,Y)\n",
    "print(\"Best score:\",gsmodel.best_score_)\n",
    "print(\"Best params:\",gsmodel.best_params_)"
   ]
  },
  {
   "cell_type": "code",
   "execution_count": 101,
   "metadata": {
    "collapsed": false
   },
   "outputs": [
    {
     "name": "stdout",
     "output_type": "stream",
     "text": [
      "Train Accuracy: 0.942490865699 | Test Accuracy: 0.750554393968\n",
      "Train Precision: 0.949607163977 | Test Precision: 0.834262544349\n",
      "Train Recall: 0.936279205364 | Test Recall: 0.714642353197\n"
     ]
    }
   ],
   "source": [
    "test_fit = DecisionTreeClassifier(max_depth=None,min_samples_leaf=1,random_state=1)\n",
    "test_fit.fit(X,Y)\n",
    "print(\"Train Accuracy:\",accuracy_score(test_fit.predict(X),Y),\"| Test Accuracy:\",accuracy_score(test_fit.predict(Xtest),Ytest))\n",
    "print(\"Train Precision:\",precision_score(test_fit.predict(X),Y),\"| Test Precision:\",precision_score(test_fit.predict(Xtest),Ytest))\n",
    "print(\"Train Recall:\",recall_score(test_fit.predict(X),Y),\"| Test Recall:\",recall_score(test_fit.predict(Xtest),Ytest))"
   ]
  },
  {
   "cell_type": "code",
   "execution_count": 102,
   "metadata": {
    "collapsed": false
   },
   "outputs": [
    {
     "data": {
      "text/plain": [
       "<matplotlib.legend.Legend at 0x1d78bf4d630>"
      ]
     },
     "execution_count": 102,
     "metadata": {},
     "output_type": "execute_result"
    },
    {
     "data": {
      "image/png": "[encoded data removed]",
      "text/plain": [
       "<matplotlib.figure.Figure at 0x1d78bdce2e8>"
      ]
     },
     "metadata": {},
     "output_type": "display_data"
    }
   ],
   "source": [
    "scores = test_fit.predict_proba(Xtest)\n",
    "fpr, tpr, thresholds = roc_curve(Ytest,scores[:,1],pos_label=True)\n",
    "plt.figure(figsize=(6,6))\n",
    "plt.plot(fpr,tpr,color='blue',label='ROC curve (area = %0.2f)' % auc(fpr,tpr))\n",
    "plt.plot([0, 1], [0, 1], color='red',linestyle='--')\n",
    "plt.xlabel('False Positive Rate')\n",
    "plt.ylabel('True Positive Rate')\n",
    "plt.title('ROC Curve')\n",
    "plt.legend(loc=\"lower right\")"
   ]
  },
  {
   "cell_type": "markdown",
   "metadata": {},
   "source": [
    "Decision Trees had decent performance too, however Random Forests still appear to be superior.  \n",
    "\n",
    "Select Random Forest model due to its performance. Test for effect of randomness/CV on the model."
   ]
  },
  {
   "cell_type": "code",
   "execution_count": 120,
   "metadata": {
    "collapsed": true
   },
   "outputs": [
    {
     "name": "stderr",
     "output_type": "stream",
     "text": [
      "D:\\Anaconda3\\lib\\site-packages\\sklearn\\ensemble\\forest.py:451: UserWarning: Some inputs do not have OOB scores. This probably means too few trees were used to compute any reliable oob estimates.\n",
      "  warn(\"Some inputs do not have OOB scores. \"\n",
      "D:\\Anaconda3\\lib\\site-packages\\sklearn\\ensemble\\forest.py:456: RuntimeWarning: invalid value encountered in true_divide\n",
      "  predictions[k].sum(axis=1)[:, np.newaxis])\n",
      "D:\\Anaconda3\\lib\\site-packages\\sklearn\\ensemble\\forest.py:451: UserWarning: Some inputs do not have OOB scores. This probably means too few trees were used to compute any reliable oob estimates.\n",
      "  warn(\"Some inputs do not have OOB scores. \"\n",
      "D:\\Anaconda3\\lib\\site-packages\\sklearn\\ensemble\\forest.py:456: RuntimeWarning: invalid value encountered in true_divide\n",
      "  predictions[k].sum(axis=1)[:, np.newaxis])\n"
     ]
    }
   ],
   "source": [
    "acc = []\n",
    "prec = []\n",
    "rec = []\n",
    "oob = []\n",
    "\n",
    "for k in range(1,11):\n",
    "    X, Xtest, Y, Ytest = train_test_split(X_res,Y_res,random_state=k,stratify=Y_res)\n",
    "    test_fit = RandomForestClassifier(n_estimators=30,min_samples_leaf=1,max_features='auto',oob_score=True,random_state=k)\n",
    "    test_fit.fit(X,Y)\n",
    "    Y_fit = test_fit.predict(Xtest)\n",
    "    acc.append(accuracy_score(Y_fit,Ytest))\n",
    "    prec.append(precision_score(Y_fit,Ytest))\n",
    "    rec.append(recall_score(Y_fit,Ytest))\n",
    "    oob.append(test_fit.oob_score_)\n"
   ]
  },
  {
   "cell_type": "code",
   "execution_count": 127,
   "metadata": {
    "collapsed": false
   },
   "outputs": [
    {
     "data": {
      "text/plain": [
       "<matplotlib.text.Text at 0x1d7a074ddd8>"
      ]
     },
     "execution_count": 127,
     "metadata": {},
     "output_type": "execute_result"
    },
    {
     "data": {
      "image/png": "[encoded data removed]",
      "text/plain": [
       "<matplotlib.figure.Figure at 0x1d7a067f588>"
      ]
     },
     "metadata": {},
     "output_type": "display_data"
    }
   ],
   "source": [
    "plt.figure(figsize=(9,6))\n",
    "plt.plot(acc)\n",
    "plt.plot(prec)\n",
    "plt.plot(rec)\n",
    "plt.legend([\"Accuracy\",\"Precision\",\"Recall\"],bbox_to_anchor=(1,1))\n",
    "plt.xticks(range(0,10))\n",
    "plt.xlabel(\"Trial #\")\n",
    "plt.ylabel(\"Score\")\n",
    "plt.title(\"Scores for Different Random Splits\")"
   ]
  },
  {
   "cell_type": "markdown",
   "metadata": {},
   "source": [
    "Based on the findings in this project, we conclude that is possible to predict with roughly 75% accuracy whether or not there will be any scoring in a half-inning based only on information available at the beginning of the half-inning. The model that performed the best under the scoring metrics was the Random Forest Classifier, which achieved >75% accuracy, precision, and recall while having the highest AUC for the ROC curve."
   ]
  },
  {
   "cell_type": "markdown",
   "metadata": {
    "collapsed": true
   },
   "source": [
    "We can recommend potential clients to take note of the inning, leadoff position, teams playing, and score differential at the beginning of an inning, and input those points into the model to get a prediction of whether there will be scoring in the inning. The model can provide an estimate of the scoring, which could help advertisers and broadcasters from determining when to air ads for maximum viewership. Fans can decide whether they want to watch a particular half inning if they are only interested in watching innings involving scoring."
   ]
  },
  {
   "cell_type": "markdown",
   "metadata": {},
   "source": [
    "Any prospective analysts interested in further improving the model can attempt to include more features into the model, or consider a wider variety of modeling algorithms. A new definition of an “interesting” inning could be determined; for instance, instead of the dependent variable being a flag that specifies whether any scoring occurred, the dependent variable could be changed to a flag indicating a certain number of hits, whether there were homeruns, or a certain amount of batters came to the plate. Numeric dependent variables could be considered as well, such as number of runs scored in an inning. This leads the way to consideration of regression models in addition to classification models. However, better hardware is recommended, as the processing time for some the models was already quite long, and including more features would only increase that time even further."
   ]
  },
  {
   "cell_type": "markdown",
   "metadata": {},
   "source": [
    "Overall, we have found that the Random Forest Classifier model can provide a quick, rough estimate of whether there will be any scoring in an inning given only some features that are available when the inning starts. The model performed relatively well when considering various scoring metrics, but can definitely be improved with future work."
   ]
  },
  {
   "cell_type": "code",
   "execution_count": null,
   "metadata": {
    "collapsed": true
   },
   "outputs": [],
   "source": []
  },
  {
   "cell_type": "code",
   "execution_count": null,
   "metadata": {
    "collapsed": true
   },
   "outputs": [],
   "source": []
  },
  {
   "cell_type": "code",
   "execution_count": null,
   "metadata": {
    "collapsed": true
   },
   "outputs": [],
   "source": []
  },
  {
   "cell_type": "code",
   "execution_count": null,
   "metadata": {
    "collapsed": true
   },
   "outputs": [],
   "source": []
  },
  {
   "cell_type": "code",
   "execution_count": null,
   "metadata": {
    "collapsed": true
   },
   "outputs": [],
   "source": []
  },
  {
   "cell_type": "code",
   "execution_count": null,
   "metadata": {
    "collapsed": true
   },
   "outputs": [],
   "source": []
  },
  {
   "cell_type": "code",
   "execution_count": null,
   "metadata": {
    "collapsed": true
   },
   "outputs": [],
   "source": []
  }
 ],
 "metadata": {
  "kernelspec": {
   "display_name": "Python 3",
   "language": "python",
   "name": "python3"
  },
  "language_info": {
   "codemirror_mode": {
    "name": "ipython",
    "version": 3
   },
   "file_extension": ".py",
   "mimetype": "text/x-python",
   "name": "python",
   "nbconvert_exporter": "python",
   "pygments_lexer": "ipython3",
   "version": "3.5.3"
  }
 },
 "nbformat": 4,
 "nbformat_minor": 0
}
