{
 "cells": [
  {
   "cell_type": "markdown",
   "metadata": {},
   "source": [
    "# Data Story"
   ]
  },
  {
   "cell_type": "markdown",
   "metadata": {},
   "source": [
    "What is the likelihood of seeing some exciting action during a baseball game? A common criticism of baseball is the fact that for long stretches of time, nothing interesting happens on offense. For a casual fan, watching hitting is frequently more interesting than watching pitching and defense. If a fan tunes into a game at the start of an inning, which potential variables can he or she use to judge whether or not they will witness hits and runs for that particular inning?"
   ]
  },
  {
   "cell_type": "markdown",
   "metadata": {},
   "source": [
    "The dataset used for this initial data exploration was obtained from Retrosheet's play-by-play event files (http://www.retrosheet.org/game.htm). The downloads may be parsed into .csv files using programs they provide. An alternative is to use R and a set of files known as Chadwick to parse a season's play-by-play data into a single .csv file, as detailed at http://isaacmiller.co/how-to-create-a-single-season-csv-of-retrosheet-play-by-play-data-pc/.  "
   ]
  },
  {
   "cell_type": "code",
   "execution_count": 1,
   "metadata": {
    "collapsed": true
   },
   "outputs": [],
   "source": [
    "%matplotlib inline\n",
    "import matplotlib as mpl\n",
    "import matplotlib.cm as cm\n",
    "import matplotlib.pyplot as plt\n",
    "import pandas as pd\n",
    "import numpy as np"
   ]
  },
  {
   "cell_type": "code",
   "execution_count": 2,
   "metadata": {
    "collapsed": false
   },
   "outputs": [
    {
     "name": "stderr",
     "output_type": "stream",
     "text": [
      "D:\\Anaconda3\\lib\\site-packages\\IPython\\core\\interactiveshell.py:2902: DtypeWarning: Columns (65,66,85,86) have mixed types. Specify dtype option on import or set low_memory=False.\n",
      "  interactivity=interactivity, compiler=compiler, result=result)\n"
     ]
    },
    {
     "data": {
      "text/html": [
       "<div>\n",
       "<style>\n",
       "    .dataframe thead tr:only-child th {\n",
       "        text-align: right;\n",
       "    }\n",
       "\n",
       "    .dataframe thead th {\n",
       "        text-align: left;\n",
       "    }\n",
       "\n",
       "    .dataframe tbody tr th {\n",
       "        vertical-align: top;\n",
       "    }\n",
       "</style>\n",
       "<table border=\"1\" class=\"dataframe\">\n",
       "  <thead>\n",
       "    <tr style=\"text-align: right;\">\n",
       "      <th></th>\n",
       "      <th>Unnamed: 0</th>\n",
       "      <th>GAME_ID</th>\n",
       "      <th>AWAY_TEAM_ID</th>\n",
       "      <th>INN_CT</th>\n",
       "      <th>BAT_HOME_ID</th>\n",
       "      <th>OUTS_CT</th>\n",
       "      <th>BALLS_CT</th>\n",
       "      <th>STRIKES_CT</th>\n",
       "      <th>PITCH_SEQ_TX</th>\n",
       "      <th>AWAY_SCORE_CT</th>\n",
       "      <th>...</th>\n",
       "      <th>REMOVED_FOR_PH_BAT_FLD_CD</th>\n",
       "      <th>PO1_FLD_CD</th>\n",
       "      <th>PO2_FLD_CD</th>\n",
       "      <th>PO3_FLD_CD</th>\n",
       "      <th>ASS1_FLD_CD</th>\n",
       "      <th>ASS2_FLD_CD</th>\n",
       "      <th>ASS3_FLD_CD</th>\n",
       "      <th>ASS4_FLD_CD</th>\n",
       "      <th>ASS5_FLD_CD</th>\n",
       "      <th>EVENT_ID</th>\n",
       "    </tr>\n",
       "  </thead>\n",
       "  <tbody>\n",
       "    <tr>\n",
       "      <th>0</th>\n",
       "      <td>1</td>\n",
       "      <td>ANA201604040</td>\n",
       "      <td>CHN</td>\n",
       "      <td>1</td>\n",
       "      <td>0</td>\n",
       "      <td>0</td>\n",
       "      <td>1</td>\n",
       "      <td>0</td>\n",
       "      <td>BX</td>\n",
       "      <td>0</td>\n",
       "      <td>...</td>\n",
       "      <td>0</td>\n",
       "      <td>0</td>\n",
       "      <td>0</td>\n",
       "      <td>0</td>\n",
       "      <td>0</td>\n",
       "      <td>0</td>\n",
       "      <td>0</td>\n",
       "      <td>0</td>\n",
       "      <td>0</td>\n",
       "      <td>1</td>\n",
       "    </tr>\n",
       "    <tr>\n",
       "      <th>1</th>\n",
       "      <td>2</td>\n",
       "      <td>ANA201604040</td>\n",
       "      <td>CHN</td>\n",
       "      <td>1</td>\n",
       "      <td>0</td>\n",
       "      <td>0</td>\n",
       "      <td>0</td>\n",
       "      <td>0</td>\n",
       "      <td>X</td>\n",
       "      <td>0</td>\n",
       "      <td>...</td>\n",
       "      <td>0</td>\n",
       "      <td>3</td>\n",
       "      <td>0</td>\n",
       "      <td>0</td>\n",
       "      <td>6</td>\n",
       "      <td>0</td>\n",
       "      <td>0</td>\n",
       "      <td>0</td>\n",
       "      <td>0</td>\n",
       "      <td>2</td>\n",
       "    </tr>\n",
       "    <tr>\n",
       "      <th>2</th>\n",
       "      <td>3</td>\n",
       "      <td>ANA201604040</td>\n",
       "      <td>CHN</td>\n",
       "      <td>1</td>\n",
       "      <td>0</td>\n",
       "      <td>1</td>\n",
       "      <td>0</td>\n",
       "      <td>2</td>\n",
       "      <td>SFS</td>\n",
       "      <td>0</td>\n",
       "      <td>...</td>\n",
       "      <td>0</td>\n",
       "      <td>2</td>\n",
       "      <td>0</td>\n",
       "      <td>0</td>\n",
       "      <td>0</td>\n",
       "      <td>0</td>\n",
       "      <td>0</td>\n",
       "      <td>0</td>\n",
       "      <td>0</td>\n",
       "      <td>3</td>\n",
       "    </tr>\n",
       "    <tr>\n",
       "      <th>3</th>\n",
       "      <td>4</td>\n",
       "      <td>ANA201604040</td>\n",
       "      <td>CHN</td>\n",
       "      <td>1</td>\n",
       "      <td>0</td>\n",
       "      <td>2</td>\n",
       "      <td>1</td>\n",
       "      <td>1</td>\n",
       "      <td>BCX</td>\n",
       "      <td>0</td>\n",
       "      <td>...</td>\n",
       "      <td>0</td>\n",
       "      <td>0</td>\n",
       "      <td>0</td>\n",
       "      <td>0</td>\n",
       "      <td>0</td>\n",
       "      <td>0</td>\n",
       "      <td>0</td>\n",
       "      <td>0</td>\n",
       "      <td>0</td>\n",
       "      <td>4</td>\n",
       "    </tr>\n",
       "    <tr>\n",
       "      <th>4</th>\n",
       "      <td>5</td>\n",
       "      <td>ANA201604040</td>\n",
       "      <td>CHN</td>\n",
       "      <td>1</td>\n",
       "      <td>0</td>\n",
       "      <td>2</td>\n",
       "      <td>2</td>\n",
       "      <td>2</td>\n",
       "      <td>BSS*B1S</td>\n",
       "      <td>1</td>\n",
       "      <td>...</td>\n",
       "      <td>0</td>\n",
       "      <td>3</td>\n",
       "      <td>0</td>\n",
       "      <td>0</td>\n",
       "      <td>2</td>\n",
       "      <td>0</td>\n",
       "      <td>0</td>\n",
       "      <td>0</td>\n",
       "      <td>0</td>\n",
       "      <td>5</td>\n",
       "    </tr>\n",
       "  </tbody>\n",
       "</table>\n",
       "<p>5 rows × 98 columns</p>\n",
       "</div>"
      ],
      "text/plain": [
       "   Unnamed: 0       GAME_ID AWAY_TEAM_ID  INN_CT  BAT_HOME_ID  OUTS_CT  \\\n",
       "0           1  ANA201604040          CHN       1            0        0   \n",
       "1           2  ANA201604040          CHN       1            0        0   \n",
       "2           3  ANA201604040          CHN       1            0        1   \n",
       "3           4  ANA201604040          CHN       1            0        2   \n",
       "4           5  ANA201604040          CHN       1            0        2   \n",
       "\n",
       "   BALLS_CT  STRIKES_CT PITCH_SEQ_TX  AWAY_SCORE_CT   ...     \\\n",
       "0         1           0           BX              0   ...      \n",
       "1         0           0            X              0   ...      \n",
       "2         0           2          SFS              0   ...      \n",
       "3         1           1          BCX              0   ...      \n",
       "4         2           2      BSS*B1S              1   ...      \n",
       "\n",
       "   REMOVED_FOR_PH_BAT_FLD_CD PO1_FLD_CD PO2_FLD_CD PO3_FLD_CD ASS1_FLD_CD  \\\n",
       "0                          0          0          0          0           0   \n",
       "1                          0          3          0          0           6   \n",
       "2                          0          2          0          0           0   \n",
       "3                          0          0          0          0           0   \n",
       "4                          0          3          0          0           2   \n",
       "\n",
       "  ASS2_FLD_CD ASS3_FLD_CD ASS4_FLD_CD ASS5_FLD_CD EVENT_ID  \n",
       "0           0           0           0           0        1  \n",
       "1           0           0           0           0        2  \n",
       "2           0           0           0           0        3  \n",
       "3           0           0           0           0        4  \n",
       "4           0           0           0           0        5  \n",
       "\n",
       "[5 rows x 98 columns]"
      ]
     },
     "execution_count": 2,
     "metadata": {},
     "output_type": "execute_result"
    }
   ],
   "source": [
    "data = pd.read_csv(\"D:/SB DATA/Retrosheets/data2016.csv\")\n",
    "data.head()"
   ]
  },
  {
   "cell_type": "code",
   "execution_count": 3,
   "metadata": {
    "collapsed": false
   },
   "outputs": [
    {
     "data": {
      "text/plain": [
       "190715"
      ]
     },
     "execution_count": 3,
     "metadata": {},
     "output_type": "execute_result"
    }
   ],
   "source": [
    "len(data)"
   ]
  },
  {
   "cell_type": "code",
   "execution_count": 4,
   "metadata": {
    "collapsed": true
   },
   "outputs": [
    {
     "data": {
      "text/plain": [
       "['Unnamed: 0',\n",
       " 'GAME_ID',\n",
       " 'AWAY_TEAM_ID',\n",
       " 'INN_CT',\n",
       " 'BAT_HOME_ID',\n",
       " 'OUTS_CT',\n",
       " 'BALLS_CT',\n",
       " 'STRIKES_CT',\n",
       " 'PITCH_SEQ_TX',\n",
       " 'AWAY_SCORE_CT',\n",
       " 'HOME_SCORE_CT',\n",
       " 'BAT_ID',\n",
       " 'BAT_HAND_CD',\n",
       " 'RESP_BAT_ID',\n",
       " 'RESP_BAT_HAND_CD',\n",
       " 'PIT_ID',\n",
       " 'PIT_HAND_CD',\n",
       " 'RESP_PIT_ID',\n",
       " 'RESP_PIT_HAND_CD',\n",
       " 'POS2_FLD_ID',\n",
       " 'POS3_FLD_ID',\n",
       " 'POS4_FLD_ID',\n",
       " 'POS5_FLD_ID',\n",
       " 'POS6_FLD_ID',\n",
       " 'POS7_FLD_ID',\n",
       " 'POS8_FLD_ID',\n",
       " 'POS9_FLD_ID',\n",
       " 'BASE1_RUN_ID',\n",
       " 'BASE2_RUN_ID',\n",
       " 'BASE3_RUN_ID',\n",
       " 'EVENT_TX',\n",
       " 'LEADOFF_FL',\n",
       " 'PH_FL',\n",
       " 'BAT_FLD_CD',\n",
       " 'BAT_LINEUP_ID',\n",
       " 'EVENT_CD',\n",
       " 'BAT_EVENT_FL',\n",
       " 'AB_FL',\n",
       " 'H_FL',\n",
       " 'SH_FL',\n",
       " 'SF_FL',\n",
       " 'EVENT_OUTS_CT',\n",
       " 'DP_FL',\n",
       " 'TP_FL',\n",
       " 'RBI_CT',\n",
       " 'WP_FL',\n",
       " 'PB_FL',\n",
       " 'FLD_CD',\n",
       " 'BATTEDBALL_CD',\n",
       " 'BUNT_FL',\n",
       " 'FOUL_FL',\n",
       " 'BATTEDBALL_LOC_TX',\n",
       " 'ERR_CT',\n",
       " 'ERR1_FLD_CD',\n",
       " 'ERR1_CD',\n",
       " 'ERR2_FLD_CD',\n",
       " 'ERR2_CD',\n",
       " 'ERR3_FLD_CD',\n",
       " 'ERR3_CD',\n",
       " 'BAT_DEST_ID',\n",
       " 'RUN1_DEST_ID',\n",
       " 'RUN2_DEST_ID',\n",
       " 'RUN3_DEST_ID',\n",
       " 'BAT_PLAY_TX',\n",
       " 'RUN1_PLAY_TX',\n",
       " 'RUN2_PLAY_TX',\n",
       " 'RUN3_PLAY_TX',\n",
       " 'RUN1_SB_FL',\n",
       " 'RUN2_SB_FL',\n",
       " 'RUN3_SB_FL',\n",
       " 'RUN1_CS_FL',\n",
       " 'RUN2_CS_FL',\n",
       " 'RUN3_CS_FL',\n",
       " 'RUN1_PK_FL',\n",
       " 'RUN2_PK_FL',\n",
       " 'RUN3_PK_FL',\n",
       " 'RUN1_RESP_PIT_ID',\n",
       " 'RUN2_RESP_PIT_ID',\n",
       " 'RUN3_RESP_PIT_ID',\n",
       " 'GAME_NEW_FL',\n",
       " 'GAME_END_FL',\n",
       " 'PR_RUN1_FL',\n",
       " 'PR_RUN2_FL',\n",
       " 'PR_RUN3_FL',\n",
       " 'REMOVED_FOR_PR_RUN1_ID',\n",
       " 'REMOVED_FOR_PR_RUN2_ID',\n",
       " 'REMOVED_FOR_PR_RUN3_ID',\n",
       " 'REMOVED_FOR_PH_BAT_ID',\n",
       " 'REMOVED_FOR_PH_BAT_FLD_CD',\n",
       " 'PO1_FLD_CD',\n",
       " 'PO2_FLD_CD',\n",
       " 'PO3_FLD_CD',\n",
       " 'ASS1_FLD_CD',\n",
       " 'ASS2_FLD_CD',\n",
       " 'ASS3_FLD_CD',\n",
       " 'ASS4_FLD_CD',\n",
       " 'ASS5_FLD_CD',\n",
       " 'EVENT_ID']"
      ]
     },
     "execution_count": 4,
     "metadata": {},
     "output_type": "execute_result"
    }
   ],
   "source": [
    "list(data)"
   ]
  },
  {
   "cell_type": "markdown",
   "metadata": {},
   "source": [
    "For now, the 2016 MLB season is selected to be investigated. There are 190,715 plays, and 98 features as detailed at http://www.retrosheet.org/datause.txt.  \n",
    "\n",
    "A few features are selected to form a smaller data frame to work with. Some additional fields are added to improve processing efficiency."
   ]
  },
  {
   "cell_type": "code",
   "execution_count": 5,
   "metadata": {
    "collapsed": true
   },
   "outputs": [],
   "source": [
    "pd.options.mode.chained_assignment = None"
   ]
  },
  {
   "cell_type": "code",
   "execution_count": 6,
   "metadata": {
    "collapsed": false
   },
   "outputs": [
    {
     "data": {
      "text/html": [
       "<div>\n",
       "<style>\n",
       "    .dataframe thead tr:only-child th {\n",
       "        text-align: right;\n",
       "    }\n",
       "\n",
       "    .dataframe thead th {\n",
       "        text-align: left;\n",
       "    }\n",
       "\n",
       "    .dataframe tbody tr th {\n",
       "        vertical-align: top;\n",
       "    }\n",
       "</style>\n",
       "<table border=\"1\" class=\"dataframe\">\n",
       "  <thead>\n",
       "    <tr style=\"text-align: right;\">\n",
       "      <th></th>\n",
       "      <th>GAME_ID</th>\n",
       "      <th>AWAY_TEAM_ID</th>\n",
       "      <th>HOME_TEAM_ID</th>\n",
       "      <th>INN_CT</th>\n",
       "      <th>LEADOFF_FL</th>\n",
       "      <th>BAT_HOME_ID</th>\n",
       "      <th>AWAY_SCORE_CT</th>\n",
       "      <th>HOME_SCORE_CT</th>\n",
       "      <th>BAT_LINEUP_ID</th>\n",
       "      <th>H_FL</th>\n",
       "    </tr>\n",
       "  </thead>\n",
       "  <tbody>\n",
       "    <tr>\n",
       "      <th>0</th>\n",
       "      <td>ANA201604040</td>\n",
       "      <td>CHN</td>\n",
       "      <td>ANA</td>\n",
       "      <td>1</td>\n",
       "      <td>True</td>\n",
       "      <td>0</td>\n",
       "      <td>0</td>\n",
       "      <td>0</td>\n",
       "      <td>1</td>\n",
       "      <td>2</td>\n",
       "    </tr>\n",
       "    <tr>\n",
       "      <th>1</th>\n",
       "      <td>ANA201604040</td>\n",
       "      <td>CHN</td>\n",
       "      <td>ANA</td>\n",
       "      <td>1</td>\n",
       "      <td>False</td>\n",
       "      <td>0</td>\n",
       "      <td>0</td>\n",
       "      <td>0</td>\n",
       "      <td>2</td>\n",
       "      <td>0</td>\n",
       "    </tr>\n",
       "    <tr>\n",
       "      <th>2</th>\n",
       "      <td>ANA201604040</td>\n",
       "      <td>CHN</td>\n",
       "      <td>ANA</td>\n",
       "      <td>1</td>\n",
       "      <td>False</td>\n",
       "      <td>0</td>\n",
       "      <td>0</td>\n",
       "      <td>0</td>\n",
       "      <td>3</td>\n",
       "      <td>0</td>\n",
       "    </tr>\n",
       "    <tr>\n",
       "      <th>3</th>\n",
       "      <td>ANA201604040</td>\n",
       "      <td>CHN</td>\n",
       "      <td>ANA</td>\n",
       "      <td>1</td>\n",
       "      <td>False</td>\n",
       "      <td>0</td>\n",
       "      <td>0</td>\n",
       "      <td>0</td>\n",
       "      <td>4</td>\n",
       "      <td>1</td>\n",
       "    </tr>\n",
       "    <tr>\n",
       "      <th>4</th>\n",
       "      <td>ANA201604040</td>\n",
       "      <td>CHN</td>\n",
       "      <td>ANA</td>\n",
       "      <td>1</td>\n",
       "      <td>False</td>\n",
       "      <td>0</td>\n",
       "      <td>1</td>\n",
       "      <td>0</td>\n",
       "      <td>5</td>\n",
       "      <td>0</td>\n",
       "    </tr>\n",
       "  </tbody>\n",
       "</table>\n",
       "</div>"
      ],
      "text/plain": [
       "        GAME_ID AWAY_TEAM_ID HOME_TEAM_ID  INN_CT  LEADOFF_FL  BAT_HOME_ID  \\\n",
       "0  ANA201604040          CHN          ANA       1        True            0   \n",
       "1  ANA201604040          CHN          ANA       1       False            0   \n",
       "2  ANA201604040          CHN          ANA       1       False            0   \n",
       "3  ANA201604040          CHN          ANA       1       False            0   \n",
       "4  ANA201604040          CHN          ANA       1       False            0   \n",
       "\n",
       "   AWAY_SCORE_CT  HOME_SCORE_CT  BAT_LINEUP_ID  H_FL  \n",
       "0              0              0              1     2  \n",
       "1              0              0              2     0  \n",
       "2              0              0              3     0  \n",
       "3              0              0              4     1  \n",
       "4              1              0              5     0  "
      ]
     },
     "execution_count": 6,
     "metadata": {},
     "output_type": "execute_result"
    }
   ],
   "source": [
    "subset = data[['GAME_ID','AWAY_TEAM_ID','INN_CT','LEADOFF_FL','BAT_HOME_ID','AWAY_SCORE_CT','HOME_SCORE_CT','BAT_LINEUP_ID','H_FL']]\n",
    "subset['HOME_TEAM_ID'] = subset['GAME_ID'].astype(str).str[:3]\n",
    "subset = subset[['GAME_ID','AWAY_TEAM_ID','HOME_TEAM_ID','INN_CT','LEADOFF_FL','BAT_HOME_ID','AWAY_SCORE_CT',\\\n",
    "                 'HOME_SCORE_CT','BAT_LINEUP_ID','H_FL']]\n",
    "subset.head()"
   ]
  },
  {
   "cell_type": "code",
   "execution_count": 7,
   "metadata": {
    "collapsed": false
   },
   "outputs": [
    {
     "data": {
      "text/plain": [
       "array(['ANA', 'ARI', 'ATL', 'BAL', 'BOS', 'CHA', 'CHN', 'CIN', 'CLE',\n",
       "       'COL', 'DET', 'HOU', 'KCA', 'LAN', 'MIA', 'MIL', 'MIN', 'NYA',\n",
       "       'NYN', 'OAK', 'PHI', 'PIT', 'SDN', 'SEA', 'SFN', 'SLN', 'TBA',\n",
       "       'TEX', 'TOR', 'WAS'], dtype=object)"
      ]
     },
     "execution_count": 7,
     "metadata": {},
     "output_type": "execute_result"
    }
   ],
   "source": [
    "np.unique(subset['HOME_TEAM_ID'])"
   ]
  },
  {
   "cell_type": "markdown",
   "metadata": {},
   "source": [
    "As an initial instance, we will investigate the data for one team. First, extract all plays where the Dodgers ('LAN') were batting, and set a new field that indicates whether they are the home team. Then, compile the data by inning and produce some visualizations."
   ]
  },
  {
   "cell_type": "code",
   "execution_count": 8,
   "metadata": {
    "collapsed": true
   },
   "outputs": [],
   "source": [
    "LAN = subset[((subset.AWAY_TEAM_ID == 'LAN') & (subset.BAT_HOME_ID == 0)) | ((subset.HOME_TEAM_ID == 'LAN') \\\n",
    "                                                                             & (subset.BAT_HOME_ID == 1))]"
   ]
  },
  {
   "cell_type": "code",
   "execution_count": 10,
   "metadata": {
    "collapsed": false
   },
   "outputs": [
    {
     "data": {
      "text/html": [
       "<div>\n",
       "<style>\n",
       "    .dataframe thead tr:only-child th {\n",
       "        text-align: right;\n",
       "    }\n",
       "\n",
       "    .dataframe thead th {\n",
       "        text-align: left;\n",
       "    }\n",
       "\n",
       "    .dataframe tbody tr th {\n",
       "        vertical-align: top;\n",
       "    }\n",
       "</style>\n",
       "<table border=\"1\" class=\"dataframe\">\n",
       "  <thead>\n",
       "    <tr style=\"text-align: right;\">\n",
       "      <th></th>\n",
       "      <th>GAME_ID</th>\n",
       "      <th>AWAY_TEAM_ID</th>\n",
       "      <th>HOME_TEAM_ID</th>\n",
       "      <th>INN_CT</th>\n",
       "      <th>LEADOFF_FL</th>\n",
       "      <th>BAT_HOME_ID</th>\n",
       "      <th>AWAY_SCORE_CT</th>\n",
       "      <th>HOME_SCORE_CT</th>\n",
       "      <th>BAT_LINEUP_ID</th>\n",
       "      <th>H_FL</th>\n",
       "      <th>HOME_FL</th>\n",
       "    </tr>\n",
       "  </thead>\n",
       "  <tbody>\n",
       "    <tr>\n",
       "      <th>0</th>\n",
       "      <td>ANA201605180</td>\n",
       "      <td>LAN</td>\n",
       "      <td>ANA</td>\n",
       "      <td>1</td>\n",
       "      <td>True</td>\n",
       "      <td>0</td>\n",
       "      <td>0</td>\n",
       "      <td>0</td>\n",
       "      <td>1</td>\n",
       "      <td>0</td>\n",
       "      <td>False</td>\n",
       "    </tr>\n",
       "    <tr>\n",
       "      <th>1</th>\n",
       "      <td>ANA201605180</td>\n",
       "      <td>LAN</td>\n",
       "      <td>ANA</td>\n",
       "      <td>1</td>\n",
       "      <td>False</td>\n",
       "      <td>0</td>\n",
       "      <td>0</td>\n",
       "      <td>0</td>\n",
       "      <td>2</td>\n",
       "      <td>0</td>\n",
       "      <td>False</td>\n",
       "    </tr>\n",
       "    <tr>\n",
       "      <th>2</th>\n",
       "      <td>ANA201605180</td>\n",
       "      <td>LAN</td>\n",
       "      <td>ANA</td>\n",
       "      <td>1</td>\n",
       "      <td>False</td>\n",
       "      <td>0</td>\n",
       "      <td>0</td>\n",
       "      <td>0</td>\n",
       "      <td>3</td>\n",
       "      <td>0</td>\n",
       "      <td>False</td>\n",
       "    </tr>\n",
       "    <tr>\n",
       "      <th>3</th>\n",
       "      <td>ANA201605180</td>\n",
       "      <td>LAN</td>\n",
       "      <td>ANA</td>\n",
       "      <td>2</td>\n",
       "      <td>True</td>\n",
       "      <td>0</td>\n",
       "      <td>0</td>\n",
       "      <td>1</td>\n",
       "      <td>4</td>\n",
       "      <td>0</td>\n",
       "      <td>False</td>\n",
       "    </tr>\n",
       "    <tr>\n",
       "      <th>4</th>\n",
       "      <td>ANA201605180</td>\n",
       "      <td>LAN</td>\n",
       "      <td>ANA</td>\n",
       "      <td>2</td>\n",
       "      <td>False</td>\n",
       "      <td>0</td>\n",
       "      <td>0</td>\n",
       "      <td>1</td>\n",
       "      <td>5</td>\n",
       "      <td>0</td>\n",
       "      <td>False</td>\n",
       "    </tr>\n",
       "  </tbody>\n",
       "</table>\n",
       "</div>"
      ],
      "text/plain": [
       "        GAME_ID AWAY_TEAM_ID HOME_TEAM_ID  INN_CT  LEADOFF_FL  BAT_HOME_ID  \\\n",
       "0  ANA201605180          LAN          ANA       1        True            0   \n",
       "1  ANA201605180          LAN          ANA       1       False            0   \n",
       "2  ANA201605180          LAN          ANA       1       False            0   \n",
       "3  ANA201605180          LAN          ANA       2        True            0   \n",
       "4  ANA201605180          LAN          ANA       2       False            0   \n",
       "\n",
       "   AWAY_SCORE_CT  HOME_SCORE_CT  BAT_LINEUP_ID  H_FL  HOME_FL  \n",
       "0              0              0              1     0    False  \n",
       "1              0              0              2     0    False  \n",
       "2              0              0              3     0    False  \n",
       "3              0              1              4     0    False  \n",
       "4              0              1              5     0    False  "
      ]
     },
     "execution_count": 10,
     "metadata": {},
     "output_type": "execute_result"
    }
   ],
   "source": [
    "home = LAN['HOME_TEAM_ID'] == 'LAN'\n",
    "LAN['HOME_FL'] = home\n",
    "LAN = LAN.reset_index(drop= True)\n",
    "LAN.head()"
   ]
  },
  {
   "cell_type": "code",
   "execution_count": 11,
   "metadata": {
    "collapsed": true
   },
   "outputs": [],
   "source": [
    "prev_runs = 0\n",
    "prev_play = 0\n",
    "runs = []\n",
    "leadoff_pos = []\n",
    "inn = []\n",
    "hits = []\n",
    "inn_hits = 0\n",
    "for row in LAN.itertuples():    \n",
    "    if row.LEADOFF_FL == True:\n",
    "        leadoff_pos.append(row.BAT_LINEUP_ID)\n",
    "        if row.INN_CT < 10:\n",
    "            inn.append(row.INN_CT)\n",
    "        else:\n",
    "            inn.append('10+')\n",
    "        \n",
    "        if row.Index == 0:\n",
    "            continue\n",
    "        \n",
    "        hits.append(inn_hits)\n",
    "        inn_hits = 0\n",
    "        \n",
    "        if row.INN_CT == 1:\n",
    "            runs.append(prev_play-prev_runs)\n",
    "            prev_runs = 0            \n",
    "        else:\n",
    "            if row.HOME_FL == True:\n",
    "                runs.append(row.HOME_SCORE_CT - prev_runs)\n",
    "                prev_runs = row.HOME_SCORE_CT\n",
    "            else:\n",
    "                runs.append(row.AWAY_SCORE_CT - prev_runs)\n",
    "                prev_runs = row.AWAY_SCORE_CT\n",
    "    \n",
    "    if row.HOME_FL == True:\n",
    "        prev_play = row.HOME_SCORE_CT\n",
    "    else:\n",
    "        prev_play = row.AWAY_SCORE_CT\n",
    "    \n",
    "    if (row.H_FL > 0):\n",
    "        inn_hits += 1\n",
    "        \n",
    "    if row.Index == (len(LAN)-1):\n",
    "        runs.append(prev_play-prev_runs)\n",
    "        hits.append(inn_hits)"
   ]
  },
  {
   "cell_type": "code",
   "execution_count": 12,
   "metadata": {
    "collapsed": false
   },
   "outputs": [
    {
     "data": {
      "text/plain": [
       "717"
      ]
     },
     "execution_count": 12,
     "metadata": {},
     "output_type": "execute_result"
    }
   ],
   "source": [
    "sum(runs)"
   ]
  },
  {
   "cell_type": "code",
   "execution_count": 13,
   "metadata": {
    "collapsed": false
   },
   "outputs": [
    {
     "data": {
      "text/html": [
       "<div>\n",
       "<style>\n",
       "    .dataframe thead tr:only-child th {\n",
       "        text-align: right;\n",
       "    }\n",
       "\n",
       "    .dataframe thead th {\n",
       "        text-align: left;\n",
       "    }\n",
       "\n",
       "    .dataframe tbody tr th {\n",
       "        vertical-align: top;\n",
       "    }\n",
       "</style>\n",
       "<table border=\"1\" class=\"dataframe\">\n",
       "  <thead>\n",
       "    <tr style=\"text-align: right;\">\n",
       "      <th></th>\n",
       "      <th>Hits</th>\n",
       "      <th>Inning</th>\n",
       "      <th>Leadoff</th>\n",
       "      <th>Runs</th>\n",
       "    </tr>\n",
       "  </thead>\n",
       "  <tbody>\n",
       "    <tr>\n",
       "      <th>0</th>\n",
       "      <td>0</td>\n",
       "      <td>1</td>\n",
       "      <td>1</td>\n",
       "      <td>0</td>\n",
       "    </tr>\n",
       "    <tr>\n",
       "      <th>1</th>\n",
       "      <td>0</td>\n",
       "      <td>2</td>\n",
       "      <td>4</td>\n",
       "      <td>0</td>\n",
       "    </tr>\n",
       "    <tr>\n",
       "      <th>2</th>\n",
       "      <td>0</td>\n",
       "      <td>3</td>\n",
       "      <td>7</td>\n",
       "      <td>0</td>\n",
       "    </tr>\n",
       "    <tr>\n",
       "      <th>3</th>\n",
       "      <td>2</td>\n",
       "      <td>4</td>\n",
       "      <td>1</td>\n",
       "      <td>1</td>\n",
       "    </tr>\n",
       "    <tr>\n",
       "      <th>4</th>\n",
       "      <td>2</td>\n",
       "      <td>5</td>\n",
       "      <td>7</td>\n",
       "      <td>0</td>\n",
       "    </tr>\n",
       "  </tbody>\n",
       "</table>\n",
       "</div>"
      ],
      "text/plain": [
       "   Hits Inning  Leadoff  Runs\n",
       "0     0      1        1     0\n",
       "1     0      2        4     0\n",
       "2     0      3        7     0\n",
       "3     2      4        1     1\n",
       "4     2      5        7     0"
      ]
     },
     "execution_count": 13,
     "metadata": {},
     "output_type": "execute_result"
    }
   ],
   "source": [
    "innings = pd.DataFrame({'Leadoff': leadoff_pos, 'Runs': runs, 'Inning': inn, 'Hits': hits})\n",
    "innings.head()"
   ]
  },
  {
   "cell_type": "code",
   "execution_count": 16,
   "metadata": {
    "collapsed": false
   },
   "outputs": [
    {
     "data": {
      "text/plain": [
       "<matplotlib.text.Text at 0x1d3df09fcc0>"
      ]
     },
     "execution_count": 16,
     "metadata": {},
     "output_type": "execute_result"
    },
    {
     "data": {
      "image/png": "[encoded data removed]",
      "text/plain": [
       "<matplotlib.figure.Figure at 0x1d3df3672e8>"
      ]
     },
     "metadata": {},
     "output_type": "display_data"
    }
   ],
   "source": [
    "means = innings.groupby('Leadoff').mean()\n",
    "\n",
    "fig = means['Runs'].plot(kind='bar',rot=0,legend=False,figsize=(9,6))\n",
    "plt.xlabel('Leadoff Position')\n",
    "plt.ylabel('Average Runs Scored')\n",
    "plt.title('Average Runs Scored per Inning by Leadoff Position for Dodgers 2016')"
   ]
  },
  {
   "cell_type": "code",
   "execution_count": 17,
   "metadata": {
    "collapsed": false
   },
   "outputs": [
    {
     "data": {
      "text/plain": [
       "<matplotlib.text.Text at 0x1d3df131278>"
      ]
     },
     "execution_count": 17,
     "metadata": {},
     "output_type": "execute_result"
    },
    {
     "data": {
      "image/png": "[encoded data removed]",
      "text/plain": [
       "<matplotlib.figure.Figure at 0x1d3df044b00>"
      ]
     },
     "metadata": {},
     "output_type": "display_data"
    }
   ],
   "source": [
    "means = innings.groupby('Leadoff').mean()\n",
    "\n",
    "fig = means['Hits'].plot(kind='bar',rot=0,legend=False,figsize=(9,6),color='y')\n",
    "plt.xlabel('Leadoff Position')\n",
    "plt.ylabel('Average Hits')\n",
    "plt.title('Average Hits per Inning by Leadoff Position for Dodgers 2016')"
   ]
  },
  {
   "cell_type": "code",
   "execution_count": 15,
   "metadata": {
    "collapsed": false
   },
   "outputs": [
    {
     "data": {
      "text/plain": [
       "<matplotlib.text.Text at 0x1d3df38a9e8>"
      ]
     },
     "execution_count": 15,
     "metadata": {},
     "output_type": "execute_result"
    },
    {
     "data": {
      "image/png": "[encoded data removed]",
      "text/plain": [
       "<matplotlib.figure.Figure at 0x1d3e6f43a90>"
      ]
     },
     "metadata": {},
     "output_type": "display_data"
    }
   ],
   "source": [
    "means = innings.groupby('Inning').mean()\n",
    "\n",
    "fig = means['Runs'].plot(kind='bar',rot=0,legend=False,figsize=(9,6),color = 'g')\n",
    "plt.xlabel('Inning')\n",
    "plt.ylabel('Average Runs Scored')\n",
    "plt.title('Average Runs Scored per Inning for Dodgers 2016')"
   ]
  },
  {
   "cell_type": "markdown",
   "metadata": {},
   "source": [
    "Now, more robust code is produced to quickly generate plots for specific teams depending on what is saved as the teams of interest.  \n",
    "\n",
    "First, plots can be made to represent data of the whole league. Then, plots can also be produced to compare the differences between National League and American League teams, since in the AL the pitcher does not hit and is replaced with a designated hitter. Different subsets of teams can be selected by modifying what is defined as the \"leagues\" and/or \"teams\" variable."
   ]
  },
  {
   "cell_type": "code",
   "execution_count": 20,
   "metadata": {
    "collapsed": true
   },
   "outputs": [],
   "source": [
    "AL = ['ANA','BAL','BOS','CHA','CLE','DET','HOU','KCA','MIN','NYA','OAK','SEA','TBA','TEX','TOR']\n",
    "NL = ['ARI','ATL','CHN','CIN','COL','LAN','MIA','MIL','NYN','PHI','PIT','SDN','SFN','SLN','WAS']\n",
    "leagues = [AL,NL]\n",
    "league_names = ['AL','NL']\n",
    "teams = AL + NL"
   ]
  },
  {
   "cell_type": "code",
   "execution_count": 22,
   "metadata": {
    "collapsed": false
   },
   "outputs": [],
   "source": [
    "team_means = pd.DataFrame()\n",
    "pos = 0\n",
    "for team in teams:\n",
    "    bat = subset[((subset.AWAY_TEAM_ID == team) & (subset.BAT_HOME_ID == 0)) | ((subset.HOME_TEAM_ID == team) \\\n",
    "                                                                                 & (subset.BAT_HOME_ID == 1))]\n",
    "    home = bat['HOME_TEAM_ID'] == team\n",
    "    bat['HOME_FL'] = home\n",
    "    bat = bat.reset_index(drop= True)\n",
    "\n",
    "    prev_runs = 0\n",
    "    prev_play = 0\n",
    "    runs = []\n",
    "    leadoff_pos = []\n",
    "    inn = []\n",
    "    for row in bat.itertuples():    \n",
    "        if row.LEADOFF_FL == True:\n",
    "            leadoff_pos.append(row.BAT_LINEUP_ID)\n",
    "\n",
    "            if row.INN_CT < 10:\n",
    "                inn.append(row.INN_CT)\n",
    "            else:\n",
    "                inn.append('10+')\n",
    "\n",
    "            if row.Index == 0:\n",
    "                continue\n",
    "\n",
    "            if row.INN_CT == 1:\n",
    "                runs.append(prev_play-prev_runs)\n",
    "                prev_runs = 0            \n",
    "            else:\n",
    "                if row.HOME_FL == True:\n",
    "                    runs.append(row.HOME_SCORE_CT - prev_runs)\n",
    "                    prev_runs = row.HOME_SCORE_CT\n",
    "                else:\n",
    "                    runs.append(row.AWAY_SCORE_CT - prev_runs)\n",
    "                    prev_runs = row.AWAY_SCORE_CT\n",
    "\n",
    "        if row.HOME_FL == True:\n",
    "            prev_play = row.HOME_SCORE_CT\n",
    "        else:\n",
    "            prev_play = row.AWAY_SCORE_CT\n",
    "\n",
    "        if row.Index == (len(bat)-1):\n",
    "            runs.append(prev_play-prev_runs)\n",
    "    \n",
    "    innings = pd.DataFrame({'Leadoff': leadoff_pos, team: runs, 'Inning':inn})\n",
    "    means = innings.groupby('Leadoff').mean()\n",
    "    \n",
    "    team_means = pd.concat([team_means,means],axis=1)\n",
    "    \n",
    "    innings = pd.DataFrame({'Leadoff': leadoff_pos, 'Runs': runs, 'Inning':inn})\n",
    "    if pos==0:\n",
    "        inn_cts = innings.Leadoff.value_counts()\n",
    "        sums = innings.groupby('Leadoff').sum()\n",
    "    else:\n",
    "        inn_cts = innings.Leadoff.value_counts() + inn_cts\n",
    "        sums = innings.groupby('Leadoff').sum() + sums\n",
    "    pos=1"
   ]
  },
  {
   "cell_type": "code",
   "execution_count": 24,
   "metadata": {
    "collapsed": false
   },
   "outputs": [
    {
     "data": {
      "text/html": [
       "<div>\n",
       "<style>\n",
       "    .dataframe thead tr:only-child th {\n",
       "        text-align: right;\n",
       "    }\n",
       "\n",
       "    .dataframe thead th {\n",
       "        text-align: left;\n",
       "    }\n",
       "\n",
       "    .dataframe tbody tr th {\n",
       "        vertical-align: top;\n",
       "    }\n",
       "</style>\n",
       "<table border=\"1\" class=\"dataframe\">\n",
       "  <thead>\n",
       "    <tr style=\"text-align: right;\">\n",
       "      <th></th>\n",
       "      <th>Runs</th>\n",
       "      <th>Innings</th>\n",
       "      <th>mean</th>\n",
       "    </tr>\n",
       "    <tr>\n",
       "      <th>Leadoff</th>\n",
       "      <th></th>\n",
       "      <th></th>\n",
       "      <th></th>\n",
       "    </tr>\n",
       "  </thead>\n",
       "  <tbody>\n",
       "    <tr>\n",
       "      <th>1</th>\n",
       "      <td>5109</td>\n",
       "      <td>9163</td>\n",
       "      <td>0.557568</td>\n",
       "    </tr>\n",
       "    <tr>\n",
       "      <th>2</th>\n",
       "      <td>2082</td>\n",
       "      <td>3685</td>\n",
       "      <td>0.564993</td>\n",
       "    </tr>\n",
       "    <tr>\n",
       "      <th>3</th>\n",
       "      <td>1939</td>\n",
       "      <td>3635</td>\n",
       "      <td>0.533425</td>\n",
       "    </tr>\n",
       "    <tr>\n",
       "      <th>4</th>\n",
       "      <td>2491</td>\n",
       "      <td>5228</td>\n",
       "      <td>0.476473</td>\n",
       "    </tr>\n",
       "    <tr>\n",
       "      <th>5</th>\n",
       "      <td>2180</td>\n",
       "      <td>4777</td>\n",
       "      <td>0.456353</td>\n",
       "    </tr>\n",
       "    <tr>\n",
       "      <th>6</th>\n",
       "      <td>1679</td>\n",
       "      <td>4185</td>\n",
       "      <td>0.401195</td>\n",
       "    </tr>\n",
       "    <tr>\n",
       "      <th>7</th>\n",
       "      <td>1843</td>\n",
       "      <td>4236</td>\n",
       "      <td>0.435080</td>\n",
       "    </tr>\n",
       "    <tr>\n",
       "      <th>8</th>\n",
       "      <td>2085</td>\n",
       "      <td>4399</td>\n",
       "      <td>0.473971</td>\n",
       "    </tr>\n",
       "    <tr>\n",
       "      <th>9</th>\n",
       "      <td>2082</td>\n",
       "      <td>4151</td>\n",
       "      <td>0.501566</td>\n",
       "    </tr>\n",
       "  </tbody>\n",
       "</table>\n",
       "</div>"
      ],
      "text/plain": [
       "         Runs  Innings      mean\n",
       "Leadoff                         \n",
       "1        5109     9163  0.557568\n",
       "2        2082     3685  0.564993\n",
       "3        1939     3635  0.533425\n",
       "4        2491     5228  0.476473\n",
       "5        2180     4777  0.456353\n",
       "6        1679     4185  0.401195\n",
       "7        1843     4236  0.435080\n",
       "8        2085     4399  0.473971\n",
       "9        2082     4151  0.501566"
      ]
     },
     "execution_count": 24,
     "metadata": {},
     "output_type": "execute_result"
    }
   ],
   "source": [
    "sums['Innings'] = inn_cts\n",
    "sums['mean'] = sums.Runs/sums.Innings\n",
    "sums"
   ]
  },
  {
   "cell_type": "code",
   "execution_count": 25,
   "metadata": {
    "collapsed": false
   },
   "outputs": [
    {
     "data": {
      "text/plain": [
       "<matplotlib.text.Text at 0x1d3df4212e8>"
      ]
     },
     "execution_count": 25,
     "metadata": {},
     "output_type": "execute_result"
    },
    {
     "data": {
      "image/png": "[encoded data removed]",
      "text/plain": [
       "<matplotlib.figure.Figure at 0x1d3df2445c0>"
      ]
     },
     "metadata": {},
     "output_type": "display_data"
    }
   ],
   "source": [
    "sums['mean'].plot(kind='bar',rot=0,legend=False,figsize=(9,6))\n",
    "plt.xlabel('Leadoff Position')\n",
    "plt.ylabel('Average Runs Scored')\n",
    "plt.title('Average Runs Scored per Inning by Leadoff Position for League 2016')"
   ]
  },
  {
   "cell_type": "code",
   "execution_count": 30,
   "metadata": {
    "collapsed": false
   },
   "outputs": [
    {
     "name": "stderr",
     "output_type": "stream",
     "text": [
      "D:\\Anaconda3\\lib\\site-packages\\pandas\\core\\generic.py:5006: RuntimeWarning: unorderable types: numpy.ndarray() > str(), sort order is undefined for incomparable objects\n",
      "  return_indexers=True)\n"
     ]
    }
   ],
   "source": [
    "teams = AL+NL\n",
    "league_means = pd.DataFrame()\n",
    "league_hits = pd.DataFrame()\n",
    "league_runs_inn = pd.DataFrame()\n",
    "league_hits_inn = pd.DataFrame()\n",
    "\n",
    "lc = 0\n",
    "\n",
    "for league in leagues:\n",
    "    pos = 0\n",
    "    for team in league:\n",
    "        bat = subset[((subset.AWAY_TEAM_ID == team) & (subset.BAT_HOME_ID == 0)) | ((subset.HOME_TEAM_ID == team) \\\n",
    "                                                                                     & (subset.BAT_HOME_ID == 1))]\n",
    "        home = bat['HOME_TEAM_ID'] == team\n",
    "        bat['HOME_FL'] = home\n",
    "        bat = bat.reset_index(drop= True)\n",
    "\n",
    "        prev_runs = 0\n",
    "        prev_play = 0\n",
    "        runs = []\n",
    "        leadoff_pos = []\n",
    "        inn = []\n",
    "        hits = []\n",
    "        inn_hits = 0\n",
    "        \n",
    "        for row in bat.itertuples():    \n",
    "            if row.LEADOFF_FL == True:\n",
    "                leadoff_pos.append(row.BAT_LINEUP_ID)\n",
    "\n",
    "                if row.INN_CT < 10:\n",
    "                    inn.append(row.INN_CT)\n",
    "                else:\n",
    "                    inn.append('10+')\n",
    "\n",
    "                if row.Index == 0:\n",
    "                    continue\n",
    "\n",
    "                hits.append(inn_hits)\n",
    "                inn_hits = 0\n",
    "        \n",
    "                if row.INN_CT == 1:\n",
    "                    runs.append(prev_play-prev_runs)\n",
    "                    prev_runs = 0            \n",
    "                else:\n",
    "                    if row.HOME_FL == True:\n",
    "                        runs.append(row.HOME_SCORE_CT - prev_runs)\n",
    "                        prev_runs = row.HOME_SCORE_CT\n",
    "                    else:\n",
    "                        runs.append(row.AWAY_SCORE_CT - prev_runs)\n",
    "                        prev_runs = row.AWAY_SCORE_CT\n",
    "\n",
    "            if row.HOME_FL == True:\n",
    "                prev_play = row.HOME_SCORE_CT\n",
    "            else:\n",
    "                prev_play = row.AWAY_SCORE_CT\n",
    "\n",
    "            if (row.H_FL > 0):\n",
    "                inn_hits += 1                \n",
    "                \n",
    "            if row.Index == (len(bat)-1):\n",
    "                runs.append(prev_play-prev_runs)\n",
    "                hits.append(inn_hits)\n",
    "                \n",
    "\n",
    "        innings = pd.DataFrame({'Leadoff': leadoff_pos, team: runs, 'Inning':inn})\n",
    "        means = innings.groupby('Leadoff').mean()\n",
    "\n",
    "        innings = pd.DataFrame({'Leadoff': leadoff_pos, 'Runs': runs, 'Inning':inn, 'Hits':hits})\n",
    "        if pos==0:\n",
    "            inn_cts = innings.Leadoff.value_counts()\n",
    "            inn_tot = innings.Inning.value_counts()\n",
    "            sums = innings.groupby('Leadoff').sum()\n",
    "            gb_inn = innings.groupby('Inning').sum()\n",
    "        else:\n",
    "            inn_cts = innings.Leadoff.value_counts() + inn_cts\n",
    "            inn_tot = innings.Inning.value_counts() + inn_tot\n",
    "            sums = innings.groupby('Leadoff').sum() + sums\n",
    "            gb_inn = innings.groupby('Inning').sum() + gb_inn\n",
    "        pos=1\n",
    "\n",
    "    \n",
    "    sums['Innings'] = inn_cts\n",
    "    sums['mean'] = sums.Runs/sums.Innings\n",
    "    sums['Avg_hits'] = sums.Hits/sums.Innings\n",
    "    league_means[league_names[lc]] = sums['mean']\n",
    "    league_hits[league_names[lc]] = sums['Avg_hits']\n",
    "    \n",
    "    gb_inn['Total'] = inn_tot\n",
    "    gb_inn['MeanRuns'] = gb_inn.Runs/gb_inn.Total\n",
    "    gb_inn['MeanHits'] = gb_inn.Hits/gb_inn.Total\n",
    "    league_runs_inn[league_names[lc]] = gb_inn['MeanRuns']\n",
    "    league_hits_inn[league_names[lc]] = gb_inn['MeanHits']\n",
    "    \n",
    "    lc = 1\n",
    "    "
   ]
  },
  {
   "cell_type": "code",
   "execution_count": 42,
   "metadata": {
    "collapsed": false
   },
   "outputs": [
    {
     "data": {
      "text/plain": [
       "<matplotlib.text.Text at 0x1d3e7280da0>"
      ]
     },
     "execution_count": 42,
     "metadata": {},
     "output_type": "execute_result"
    },
    {
     "data": {
      "image/png": "[encoded data removed]",
      "text/plain": [
       "<matplotlib.figure.Figure at 0x1d3e7117048>"
      ]
     },
     "metadata": {},
     "output_type": "display_data"
    }
   ],
   "source": [
    "league_means.plot(kind='bar',rot=0,figsize=(9,6))\n",
    "plt.xlabel('Leadoff Position')\n",
    "plt.ylabel('Average Runs Scored')\n",
    "plt.title('Average Runs Scored per Inning by Leadoff Position for League 2016')"
   ]
  },
  {
   "cell_type": "code",
   "execution_count": 33,
   "metadata": {
    "collapsed": false
   },
   "outputs": [
    {
     "data": {
      "text/plain": [
       "<matplotlib.text.Text at 0x1d3e71e5c18>"
      ]
     },
     "execution_count": 33,
     "metadata": {},
     "output_type": "execute_result"
    },
    {
     "data": {
      "image/png": "[encoded data removed]",
      "text/plain": [
       "<matplotlib.figure.Figure at 0x1d3e719e048>"
      ]
     },
     "metadata": {},
     "output_type": "display_data"
    }
   ],
   "source": [
    "league_hits.plot(kind='bar',rot=0,figsize=(9,6))\n",
    "plt.xlabel('Leadoff Position')\n",
    "plt.ylabel('Average Hits')\n",
    "plt.title('Average Hits per Inning by Leadoff Position for League 2016')"
   ]
  },
  {
   "cell_type": "code",
   "execution_count": 35,
   "metadata": {
    "collapsed": false
   },
   "outputs": [
    {
     "data": {
      "text/html": [
       "<div>\n",
       "<style>\n",
       "    .dataframe thead tr:only-child th {\n",
       "        text-align: right;\n",
       "    }\n",
       "\n",
       "    .dataframe thead th {\n",
       "        text-align: left;\n",
       "    }\n",
       "\n",
       "    .dataframe tbody tr th {\n",
       "        vertical-align: top;\n",
       "    }\n",
       "</style>\n",
       "<table border=\"1\" class=\"dataframe\">\n",
       "  <thead>\n",
       "    <tr style=\"text-align: right;\">\n",
       "      <th></th>\n",
       "      <th>Hits</th>\n",
       "      <th>Runs</th>\n",
       "      <th>Innings</th>\n",
       "      <th>mean</th>\n",
       "      <th>Avg_hits</th>\n",
       "    </tr>\n",
       "    <tr>\n",
       "      <th>Leadoff</th>\n",
       "      <th></th>\n",
       "      <th></th>\n",
       "      <th></th>\n",
       "      <th></th>\n",
       "      <th></th>\n",
       "    </tr>\n",
       "  </thead>\n",
       "  <tbody>\n",
       "    <tr>\n",
       "      <th>1</th>\n",
       "      <td>4886</td>\n",
       "      <td>2642</td>\n",
       "      <td>4699</td>\n",
       "      <td>0.562247</td>\n",
       "      <td>1.039796</td>\n",
       "    </tr>\n",
       "    <tr>\n",
       "      <th>2</th>\n",
       "      <td>1956</td>\n",
       "      <td>1125</td>\n",
       "      <td>1896</td>\n",
       "      <td>0.593354</td>\n",
       "      <td>1.031646</td>\n",
       "    </tr>\n",
       "    <tr>\n",
       "      <th>3</th>\n",
       "      <td>1834</td>\n",
       "      <td>947</td>\n",
       "      <td>1783</td>\n",
       "      <td>0.531127</td>\n",
       "      <td>1.028603</td>\n",
       "    </tr>\n",
       "    <tr>\n",
       "      <th>4</th>\n",
       "      <td>2535</td>\n",
       "      <td>1214</td>\n",
       "      <td>2573</td>\n",
       "      <td>0.471823</td>\n",
       "      <td>0.985231</td>\n",
       "    </tr>\n",
       "    <tr>\n",
       "      <th>5</th>\n",
       "      <td>2289</td>\n",
       "      <td>1102</td>\n",
       "      <td>2430</td>\n",
       "      <td>0.453498</td>\n",
       "      <td>0.941975</td>\n",
       "    </tr>\n",
       "    <tr>\n",
       "      <th>6</th>\n",
       "      <td>1879</td>\n",
       "      <td>795</td>\n",
       "      <td>2117</td>\n",
       "      <td>0.375531</td>\n",
       "      <td>0.887577</td>\n",
       "    </tr>\n",
       "    <tr>\n",
       "      <th>7</th>\n",
       "      <td>1802</td>\n",
       "      <td>869</td>\n",
       "      <td>2103</td>\n",
       "      <td>0.413219</td>\n",
       "      <td>0.856871</td>\n",
       "    </tr>\n",
       "    <tr>\n",
       "      <th>8</th>\n",
       "      <td>1902</td>\n",
       "      <td>1017</td>\n",
       "      <td>2170</td>\n",
       "      <td>0.468664</td>\n",
       "      <td>0.876498</td>\n",
       "    </tr>\n",
       "    <tr>\n",
       "      <th>9</th>\n",
       "      <td>1885</td>\n",
       "      <td>957</td>\n",
       "      <td>2007</td>\n",
       "      <td>0.476831</td>\n",
       "      <td>0.939213</td>\n",
       "    </tr>\n",
       "  </tbody>\n",
       "</table>\n",
       "</div>"
      ],
      "text/plain": [
       "         Hits  Runs  Innings      mean  Avg_hits\n",
       "Leadoff                                         \n",
       "1        4886  2642     4699  0.562247  1.039796\n",
       "2        1956  1125     1896  0.593354  1.031646\n",
       "3        1834   947     1783  0.531127  1.028603\n",
       "4        2535  1214     2573  0.471823  0.985231\n",
       "5        2289  1102     2430  0.453498  0.941975\n",
       "6        1879   795     2117  0.375531  0.887577\n",
       "7        1802   869     2103  0.413219  0.856871\n",
       "8        1902  1017     2170  0.468664  0.876498\n",
       "9        1885   957     2007  0.476831  0.939213"
      ]
     },
     "execution_count": 35,
     "metadata": {},
     "output_type": "execute_result"
    }
   ],
   "source": [
    "sums"
   ]
  },
  {
   "cell_type": "code",
   "execution_count": 37,
   "metadata": {
    "collapsed": false
   },
   "outputs": [
    {
     "data": {
      "text/html": [
       "<div>\n",
       "<style>\n",
       "    .dataframe thead tr:only-child th {\n",
       "        text-align: right;\n",
       "    }\n",
       "\n",
       "    .dataframe thead th {\n",
       "        text-align: left;\n",
       "    }\n",
       "\n",
       "    .dataframe tbody tr th {\n",
       "        vertical-align: top;\n",
       "    }\n",
       "</style>\n",
       "<table border=\"1\" class=\"dataframe\">\n",
       "  <thead>\n",
       "    <tr style=\"text-align: right;\">\n",
       "      <th></th>\n",
       "      <th>AL</th>\n",
       "      <th>NL</th>\n",
       "    </tr>\n",
       "    <tr>\n",
       "      <th>Leadoff</th>\n",
       "      <th></th>\n",
       "      <th></th>\n",
       "    </tr>\n",
       "  </thead>\n",
       "  <tbody>\n",
       "    <tr>\n",
       "      <th>1</th>\n",
       "      <td>0.552643</td>\n",
       "      <td>0.562247</td>\n",
       "    </tr>\n",
       "    <tr>\n",
       "      <th>2</th>\n",
       "      <td>0.534936</td>\n",
       "      <td>0.593354</td>\n",
       "    </tr>\n",
       "    <tr>\n",
       "      <th>3</th>\n",
       "      <td>0.535637</td>\n",
       "      <td>0.531127</td>\n",
       "    </tr>\n",
       "    <tr>\n",
       "      <th>4</th>\n",
       "      <td>0.480979</td>\n",
       "      <td>0.471823</td>\n",
       "    </tr>\n",
       "    <tr>\n",
       "      <th>5</th>\n",
       "      <td>0.459310</td>\n",
       "      <td>0.453498</td>\n",
       "    </tr>\n",
       "    <tr>\n",
       "      <th>6</th>\n",
       "      <td>0.427466</td>\n",
       "      <td>0.375531</td>\n",
       "    </tr>\n",
       "    <tr>\n",
       "      <th>7</th>\n",
       "      <td>0.456634</td>\n",
       "      <td>0.413219</td>\n",
       "    </tr>\n",
       "    <tr>\n",
       "      <th>8</th>\n",
       "      <td>0.479139</td>\n",
       "      <td>0.468664</td>\n",
       "    </tr>\n",
       "    <tr>\n",
       "      <th>9</th>\n",
       "      <td>0.524720</td>\n",
       "      <td>0.476831</td>\n",
       "    </tr>\n",
       "  </tbody>\n",
       "</table>\n",
       "</div>"
      ],
      "text/plain": [
       "               AL        NL\n",
       "Leadoff                    \n",
       "1        0.552643  0.562247\n",
       "2        0.534936  0.593354\n",
       "3        0.535637  0.531127\n",
       "4        0.480979  0.471823\n",
       "5        0.459310  0.453498\n",
       "6        0.427466  0.375531\n",
       "7        0.456634  0.413219\n",
       "8        0.479139  0.468664\n",
       "9        0.524720  0.476831"
      ]
     },
     "execution_count": 37,
     "metadata": {},
     "output_type": "execute_result"
    }
   ],
   "source": [
    "league_means"
   ]
  },
  {
   "cell_type": "code",
   "execution_count": 38,
   "metadata": {
    "collapsed": false
   },
   "outputs": [
    {
     "data": {
      "text/html": [
       "<div>\n",
       "<style>\n",
       "    .dataframe thead tr:only-child th {\n",
       "        text-align: right;\n",
       "    }\n",
       "\n",
       "    .dataframe thead th {\n",
       "        text-align: left;\n",
       "    }\n",
       "\n",
       "    .dataframe tbody tr th {\n",
       "        vertical-align: top;\n",
       "    }\n",
       "</style>\n",
       "<table border=\"1\" class=\"dataframe\">\n",
       "  <thead>\n",
       "    <tr style=\"text-align: right;\">\n",
       "      <th></th>\n",
       "      <th>AL</th>\n",
       "      <th>NL</th>\n",
       "    </tr>\n",
       "    <tr>\n",
       "      <th>Leadoff</th>\n",
       "      <th></th>\n",
       "      <th></th>\n",
       "    </tr>\n",
       "  </thead>\n",
       "  <tbody>\n",
       "    <tr>\n",
       "      <th>1</th>\n",
       "      <td>1.048611</td>\n",
       "      <td>1.039796</td>\n",
       "    </tr>\n",
       "    <tr>\n",
       "      <th>2</th>\n",
       "      <td>0.998882</td>\n",
       "      <td>1.031646</td>\n",
       "    </tr>\n",
       "    <tr>\n",
       "      <th>3</th>\n",
       "      <td>1.055616</td>\n",
       "      <td>1.028603</td>\n",
       "    </tr>\n",
       "    <tr>\n",
       "      <th>4</th>\n",
       "      <td>0.957815</td>\n",
       "      <td>0.985231</td>\n",
       "    </tr>\n",
       "    <tr>\n",
       "      <th>5</th>\n",
       "      <td>0.940349</td>\n",
       "      <td>0.941975</td>\n",
       "    </tr>\n",
       "    <tr>\n",
       "      <th>6</th>\n",
       "      <td>0.905706</td>\n",
       "      <td>0.887577</td>\n",
       "    </tr>\n",
       "    <tr>\n",
       "      <th>7</th>\n",
       "      <td>0.937647</td>\n",
       "      <td>0.856871</td>\n",
       "    </tr>\n",
       "    <tr>\n",
       "      <th>8</th>\n",
       "      <td>0.947061</td>\n",
       "      <td>0.876498</td>\n",
       "    </tr>\n",
       "    <tr>\n",
       "      <th>9</th>\n",
       "      <td>0.996735</td>\n",
       "      <td>0.939213</td>\n",
       "    </tr>\n",
       "  </tbody>\n",
       "</table>\n",
       "</div>"
      ],
      "text/plain": [
       "               AL        NL\n",
       "Leadoff                    \n",
       "1        1.048611  1.039796\n",
       "2        0.998882  1.031646\n",
       "3        1.055616  1.028603\n",
       "4        0.957815  0.985231\n",
       "5        0.940349  0.941975\n",
       "6        0.905706  0.887577\n",
       "7        0.937647  0.856871\n",
       "8        0.947061  0.876498\n",
       "9        0.996735  0.939213"
      ]
     },
     "execution_count": 38,
     "metadata": {},
     "output_type": "execute_result"
    }
   ],
   "source": [
    "league_hits"
   ]
  },
  {
   "cell_type": "code",
   "execution_count": 31,
   "metadata": {
    "collapsed": false
   },
   "outputs": [
    {
     "data": {
      "text/plain": [
       "<matplotlib.text.Text at 0x1d3e70507b8>"
      ]
     },
     "execution_count": 31,
     "metadata": {},
     "output_type": "execute_result"
    },
    {
     "data": {
      "image/png": "[encoded data removed]",
      "text/plain": [
       "<matplotlib.figure.Figure at 0x1d3e769fc18>"
      ]
     },
     "metadata": {},
     "output_type": "display_data"
    }
   ],
   "source": [
    "league_runs_inn.plot(kind='bar',rot=0,figsize=(9,6))\n",
    "plt.xlabel('Inning')\n",
    "plt.ylabel('Average Runs Scored')\n",
    "plt.title('Average Runs Scored per Inning for League 2016')"
   ]
  },
  {
   "cell_type": "code",
   "execution_count": 32,
   "metadata": {
    "collapsed": false
   },
   "outputs": [
    {
     "data": {
      "text/plain": [
       "<matplotlib.text.Text at 0x1d3e71230b8>"
      ]
     },
     "execution_count": 32,
     "metadata": {},
     "output_type": "execute_result"
    },
    {
     "data": {
      "image/png": "[encoded data removed]",
      "text/plain": [
       "<matplotlib.figure.Figure at 0x1d3e70dce80>"
      ]
     },
     "metadata": {},
     "output_type": "display_data"
    }
   ],
   "source": [
    "league_hits_inn.plot(kind='bar',rot=0,figsize=(9,6))\n",
    "plt.xlabel('Inning')\n",
    "plt.ylabel('Average Hits')\n",
    "plt.title('Average Hits per Inning for League 2016')"
   ]
  },
  {
   "cell_type": "code",
   "execution_count": 39,
   "metadata": {
    "collapsed": false
   },
   "outputs": [
    {
     "data": {
      "text/html": [
       "<div>\n",
       "<style>\n",
       "    .dataframe thead tr:only-child th {\n",
       "        text-align: right;\n",
       "    }\n",
       "\n",
       "    .dataframe thead th {\n",
       "        text-align: left;\n",
       "    }\n",
       "\n",
       "    .dataframe tbody tr th {\n",
       "        vertical-align: top;\n",
       "    }\n",
       "</style>\n",
       "<table border=\"1\" class=\"dataframe\">\n",
       "  <thead>\n",
       "    <tr style=\"text-align: right;\">\n",
       "      <th></th>\n",
       "      <th>Hits</th>\n",
       "      <th>Leadoff</th>\n",
       "      <th>Runs</th>\n",
       "      <th>Total</th>\n",
       "      <th>MeanRuns</th>\n",
       "      <th>MeanHits</th>\n",
       "    </tr>\n",
       "    <tr>\n",
       "      <th>Inning</th>\n",
       "      <th></th>\n",
       "      <th></th>\n",
       "      <th></th>\n",
       "      <th></th>\n",
       "      <th></th>\n",
       "      <th></th>\n",
       "    </tr>\n",
       "  </thead>\n",
       "  <tbody>\n",
       "    <tr>\n",
       "      <th>1</th>\n",
       "      <td>2532</td>\n",
       "      <td>2430</td>\n",
       "      <td>1366</td>\n",
       "      <td>2430</td>\n",
       "      <td>0.562140</td>\n",
       "      <td>1.041975</td>\n",
       "    </tr>\n",
       "    <tr>\n",
       "      <th>2</th>\n",
       "      <td>2240</td>\n",
       "      <td>12661</td>\n",
       "      <td>1007</td>\n",
       "      <td>2430</td>\n",
       "      <td>0.414403</td>\n",
       "      <td>0.921811</td>\n",
       "    </tr>\n",
       "    <tr>\n",
       "      <th>3</th>\n",
       "      <td>2332</td>\n",
       "      <td>13188</td>\n",
       "      <td>1225</td>\n",
       "      <td>2429</td>\n",
       "      <td>0.504323</td>\n",
       "      <td>0.960066</td>\n",
       "    </tr>\n",
       "    <tr>\n",
       "      <th>4</th>\n",
       "      <td>2436</td>\n",
       "      <td>10392</td>\n",
       "      <td>1243</td>\n",
       "      <td>2430</td>\n",
       "      <td>0.511523</td>\n",
       "      <td>1.002469</td>\n",
       "    </tr>\n",
       "    <tr>\n",
       "      <th>5</th>\n",
       "      <td>2379</td>\n",
       "      <td>12984</td>\n",
       "      <td>1273</td>\n",
       "      <td>2430</td>\n",
       "      <td>0.523868</td>\n",
       "      <td>0.979012</td>\n",
       "    </tr>\n",
       "    <tr>\n",
       "      <th>6</th>\n",
       "      <td>2484</td>\n",
       "      <td>11148</td>\n",
       "      <td>1300</td>\n",
       "      <td>2429</td>\n",
       "      <td>0.535200</td>\n",
       "      <td>1.022643</td>\n",
       "    </tr>\n",
       "    <tr>\n",
       "      <th>7</th>\n",
       "      <td>2292</td>\n",
       "      <td>12636</td>\n",
       "      <td>1221</td>\n",
       "      <td>2425</td>\n",
       "      <td>0.503505</td>\n",
       "      <td>0.945155</td>\n",
       "    </tr>\n",
       "    <tr>\n",
       "      <th>8</th>\n",
       "      <td>2197</td>\n",
       "      <td>11886</td>\n",
       "      <td>1144</td>\n",
       "      <td>2423</td>\n",
       "      <td>0.472142</td>\n",
       "      <td>0.906727</td>\n",
       "    </tr>\n",
       "    <tr>\n",
       "      <th>9</th>\n",
       "      <td>1666</td>\n",
       "      <td>9546</td>\n",
       "      <td>760</td>\n",
       "      <td>1887</td>\n",
       "      <td>0.402756</td>\n",
       "      <td>0.882883</td>\n",
       "    </tr>\n",
       "    <tr>\n",
       "      <th>10+</th>\n",
       "      <td>410</td>\n",
       "      <td>2257</td>\n",
       "      <td>129</td>\n",
       "      <td>465</td>\n",
       "      <td>0.277419</td>\n",
       "      <td>0.881720</td>\n",
       "    </tr>\n",
       "  </tbody>\n",
       "</table>\n",
       "</div>"
      ],
      "text/plain": [
       "        Hits  Leadoff  Runs  Total  MeanRuns  MeanHits\n",
       "Inning                                                \n",
       "1       2532     2430  1366   2430  0.562140  1.041975\n",
       "2       2240    12661  1007   2430  0.414403  0.921811\n",
       "3       2332    13188  1225   2429  0.504323  0.960066\n",
       "4       2436    10392  1243   2430  0.511523  1.002469\n",
       "5       2379    12984  1273   2430  0.523868  0.979012\n",
       "6       2484    11148  1300   2429  0.535200  1.022643\n",
       "7       2292    12636  1221   2425  0.503505  0.945155\n",
       "8       2197    11886  1144   2423  0.472142  0.906727\n",
       "9       1666     9546   760   1887  0.402756  0.882883\n",
       "10+      410     2257   129    465  0.277419  0.881720"
      ]
     },
     "execution_count": 39,
     "metadata": {},
     "output_type": "execute_result"
    }
   ],
   "source": [
    "gb_inn"
   ]
  },
  {
   "cell_type": "code",
   "execution_count": 40,
   "metadata": {
    "collapsed": false
   },
   "outputs": [
    {
     "data": {
      "text/html": [
       "<div>\n",
       "<style>\n",
       "    .dataframe thead tr:only-child th {\n",
       "        text-align: right;\n",
       "    }\n",
       "\n",
       "    .dataframe thead th {\n",
       "        text-align: left;\n",
       "    }\n",
       "\n",
       "    .dataframe tbody tr th {\n",
       "        vertical-align: top;\n",
       "    }\n",
       "</style>\n",
       "<table border=\"1\" class=\"dataframe\">\n",
       "  <thead>\n",
       "    <tr style=\"text-align: right;\">\n",
       "      <th></th>\n",
       "      <th>AL</th>\n",
       "      <th>NL</th>\n",
       "    </tr>\n",
       "    <tr>\n",
       "      <th>Inning</th>\n",
       "      <th></th>\n",
       "      <th></th>\n",
       "    </tr>\n",
       "  </thead>\n",
       "  <tbody>\n",
       "    <tr>\n",
       "      <th>1</th>\n",
       "      <td>0.546129</td>\n",
       "      <td>0.562140</td>\n",
       "    </tr>\n",
       "    <tr>\n",
       "      <th>2</th>\n",
       "      <td>0.479835</td>\n",
       "      <td>0.414403</td>\n",
       "    </tr>\n",
       "    <tr>\n",
       "      <th>3</th>\n",
       "      <td>0.524455</td>\n",
       "      <td>0.504323</td>\n",
       "    </tr>\n",
       "    <tr>\n",
       "      <th>4</th>\n",
       "      <td>0.521185</td>\n",
       "      <td>0.511523</td>\n",
       "    </tr>\n",
       "    <tr>\n",
       "      <th>5</th>\n",
       "      <td>0.538493</td>\n",
       "      <td>0.523868</td>\n",
       "    </tr>\n",
       "    <tr>\n",
       "      <th>6</th>\n",
       "      <td>0.522044</td>\n",
       "      <td>0.535200</td>\n",
       "    </tr>\n",
       "    <tr>\n",
       "      <th>7</th>\n",
       "      <td>0.496492</td>\n",
       "      <td>0.503505</td>\n",
       "    </tr>\n",
       "    <tr>\n",
       "      <th>8</th>\n",
       "      <td>0.484936</td>\n",
       "      <td>0.472142</td>\n",
       "    </tr>\n",
       "    <tr>\n",
       "      <th>9</th>\n",
       "      <td>0.400749</td>\n",
       "      <td>0.402756</td>\n",
       "    </tr>\n",
       "    <tr>\n",
       "      <th>10+</th>\n",
       "      <td>0.219072</td>\n",
       "      <td>0.277419</td>\n",
       "    </tr>\n",
       "  </tbody>\n",
       "</table>\n",
       "</div>"
      ],
      "text/plain": [
       "              AL        NL\n",
       "Inning                    \n",
       "1       0.546129  0.562140\n",
       "2       0.479835  0.414403\n",
       "3       0.524455  0.504323\n",
       "4       0.521185  0.511523\n",
       "5       0.538493  0.523868\n",
       "6       0.522044  0.535200\n",
       "7       0.496492  0.503505\n",
       "8       0.484936  0.472142\n",
       "9       0.400749  0.402756\n",
       "10+     0.219072  0.277419"
      ]
     },
     "execution_count": 40,
     "metadata": {},
     "output_type": "execute_result"
    }
   ],
   "source": [
    "league_runs_inn"
   ]
  },
  {
   "cell_type": "code",
   "execution_count": 41,
   "metadata": {
    "collapsed": false
   },
   "outputs": [
    {
     "data": {
      "text/html": [
       "<div>\n",
       "<style>\n",
       "    .dataframe thead tr:only-child th {\n",
       "        text-align: right;\n",
       "    }\n",
       "\n",
       "    .dataframe thead th {\n",
       "        text-align: left;\n",
       "    }\n",
       "\n",
       "    .dataframe tbody tr th {\n",
       "        vertical-align: top;\n",
       "    }\n",
       "</style>\n",
       "<table border=\"1\" class=\"dataframe\">\n",
       "  <thead>\n",
       "    <tr style=\"text-align: right;\">\n",
       "      <th></th>\n",
       "      <th>AL</th>\n",
       "      <th>NL</th>\n",
       "    </tr>\n",
       "    <tr>\n",
       "      <th>Inning</th>\n",
       "      <th></th>\n",
       "      <th></th>\n",
       "    </tr>\n",
       "  </thead>\n",
       "  <tbody>\n",
       "    <tr>\n",
       "      <th>1</th>\n",
       "      <td>1.045717</td>\n",
       "      <td>1.041975</td>\n",
       "    </tr>\n",
       "    <tr>\n",
       "      <th>2</th>\n",
       "      <td>0.973251</td>\n",
       "      <td>0.921811</td>\n",
       "    </tr>\n",
       "    <tr>\n",
       "      <th>3</th>\n",
       "      <td>1.028360</td>\n",
       "      <td>0.960066</td>\n",
       "    </tr>\n",
       "    <tr>\n",
       "      <th>4</th>\n",
       "      <td>0.996298</td>\n",
       "      <td>1.002469</td>\n",
       "    </tr>\n",
       "    <tr>\n",
       "      <th>5</th>\n",
       "      <td>0.992178</td>\n",
       "      <td>0.979012</td>\n",
       "    </tr>\n",
       "    <tr>\n",
       "      <th>6</th>\n",
       "      <td>1.006593</td>\n",
       "      <td>1.022643</td>\n",
       "    </tr>\n",
       "    <tr>\n",
       "      <th>7</th>\n",
       "      <td>0.972348</td>\n",
       "      <td>0.945155</td>\n",
       "    </tr>\n",
       "    <tr>\n",
       "      <th>8</th>\n",
       "      <td>0.933553</td>\n",
       "      <td>0.906727</td>\n",
       "    </tr>\n",
       "    <tr>\n",
       "      <th>9</th>\n",
       "      <td>0.899946</td>\n",
       "      <td>0.882883</td>\n",
       "    </tr>\n",
       "    <tr>\n",
       "      <th>10+</th>\n",
       "      <td>0.806701</td>\n",
       "      <td>0.881720</td>\n",
       "    </tr>\n",
       "  </tbody>\n",
       "</table>\n",
       "</div>"
      ],
      "text/plain": [
       "              AL        NL\n",
       "Inning                    \n",
       "1       1.045717  1.041975\n",
       "2       0.973251  0.921811\n",
       "3       1.028360  0.960066\n",
       "4       0.996298  1.002469\n",
       "5       0.992178  0.979012\n",
       "6       1.006593  1.022643\n",
       "7       0.972348  0.945155\n",
       "8       0.933553  0.906727\n",
       "9       0.899946  0.882883\n",
       "10+     0.806701  0.881720"
      ]
     },
     "execution_count": 41,
     "metadata": {},
     "output_type": "execute_result"
    }
   ],
   "source": [
    "league_hits_inn"
   ]
  },
  {
   "cell_type": "markdown",
   "metadata": {},
   "source": [
    "From the visualizations, for hits per inning, there is a slight drop for the second inning before going up a little into the mid-innings, then trending down from there. The same could be said for runs per inning. Unsurprisingly, the presence of the DH allowed the AL teams to have slightly better offensive numbers.  \n",
    "\n",
    "When considering leadoff positions, there was a similar trend in that starting with the top of the order led to more runs, and leading off with the 6th spot led to fewer runs. Number of hits also followed this trend, although the effect is less obvious. Surprisingly, NL teams did not average the fewest amount of runs for when the 9 hitter, usually the pitcher, leads off. Even if the first batter is almost a free out, the top of the lineup is still able to produce runs better than if the bottom of the order was due up."
   ]
  },
  {
   "cell_type": "code",
   "execution_count": null,
   "metadata": {
    "collapsed": true
   },
   "outputs": [],
   "source": []
  },
  {
   "cell_type": "code",
   "execution_count": null,
   "metadata": {
    "collapsed": true
   },
   "outputs": [],
   "source": []
  },
  {
   "cell_type": "code",
   "execution_count": null,
   "metadata": {
    "collapsed": true
   },
   "outputs": [],
   "source": []
  },
  {
   "cell_type": "code",
   "execution_count": null,
   "metadata": {
    "collapsed": true
   },
   "outputs": [],
   "source": []
  }
 ],
 "metadata": {
  "kernelspec": {
   "display_name": "Python 3",
   "language": "python",
   "name": "python3"
  },
  "language_info": {
   "codemirror_mode": {
    "name": "ipython",
    "version": 3
   },
   "file_extension": ".py",
   "mimetype": "text/x-python",
   "name": "python",
   "nbconvert_exporter": "python",
   "pygments_lexer": "ipython3",
   "version": "3.5.3"
  }
 },
 "nbformat": 4,
 "nbformat_minor": 0
}
